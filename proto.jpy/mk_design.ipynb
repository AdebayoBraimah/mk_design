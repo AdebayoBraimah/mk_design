{
 "cells": [
  {
   "cell_type": "code",
   "execution_count": 1,
   "metadata": {},
   "outputs": [],
   "source": [
    "import pandas as pd\n",
    "import os"
   ]
  },
  {
   "cell_type": "code",
   "execution_count": 2,
   "metadata": {},
   "outputs": [],
   "source": [
    "t = 'participants.tsv'"
   ]
  },
  {
   "cell_type": "code",
   "execution_count": 3,
   "metadata": {},
   "outputs": [],
   "source": [
    "# pd.read_csv(t,sep=\"\\t\")"
   ]
  },
  {
   "cell_type": "code",
   "execution_count": 4,
   "metadata": {},
   "outputs": [],
   "source": [
    "# with open(t,'r') as file:\n",
    "#     lines = file.readlines()\n",
    "    \n",
    "#     if ',' in lines[0]:\n",
    "#         print(\"file is a csv\")\n",
    "#     elif '\\t' in lines[0]:\n",
    "#         print(\"file is a tsv\")\n",
    "#     else:\n",
    "#         print(\"Unrecognized delimiter\")\n",
    "    \n",
    "# print(lines)"
   ]
  },
  {
   "cell_type": "code",
   "execution_count": 5,
   "metadata": {},
   "outputs": [],
   "source": [
    "# '\\t' in lines[0]"
   ]
  },
  {
   "cell_type": "code",
   "execution_count": 65,
   "metadata": {},
   "outputs": [
    {
     "data": {
      "text/plain": [
       "True"
      ]
     },
     "execution_count": 65,
     "metadata": {},
     "output_type": "execute_result"
    }
   ],
   "source": [
    "os.path.exists(t)"
   ]
  },
  {
   "cell_type": "code",
   "execution_count": 20,
   "metadata": {},
   "outputs": [],
   "source": [
    "def find_delim(in_file,verbose=False):\n",
    "    '''\n",
    "    Inspects input file or string for some known delimiter (e.g. ',','\\t' etc.)\n",
    "    and returns the returns the delimiter used to separate enteries in the\n",
    "    input file or string.\n",
    "    \n",
    "    Arguments:\n",
    "        in_file (file or string): Input file or string. If the input file does not exist, it is assumed to be a string.\n",
    "        verbose (boolean): Enable verbose output\n",
    "    Returns:\n",
    "        delim (string): The delmiter used in the input file or string.\n",
    "    '''\n",
    "    \n",
    "    if os.path.exists(in_file):\n",
    "        with open(in_file,'r') as file:\n",
    "            lines = file.readlines()\n",
    "\n",
    "            if '.tsv' in in_file:\n",
    "                delim=\"\\t\"\n",
    "                if verbose:\n",
    "                    print(\"Input file is a tsv\")\n",
    "            elif '.csv' in in_file:\n",
    "                delim=\",\"\n",
    "                if verbose:\n",
    "                    print(\"Input file is a csv\")\n",
    "            elif ',' in lines[0]:\n",
    "                delim=\",\"\n",
    "                if verbose:\n",
    "                    print(\"Input file is a csv\")\n",
    "            elif '\\t' in lines[0]:\n",
    "                delim=\"\\t\"\n",
    "                if verbose:\n",
    "                    print(\"Input file is a tsv\")\n",
    "            elif '\\n' in lines[0]:\n",
    "                delim = \"\\n\"\n",
    "                if verbose:\n",
    "                    print(\"Input file uses newline separators exclusively\")\n",
    "            else:\n",
    "                delim = \" \"\n",
    "                # print(\"Unrecognized delimiter from input file\")\n",
    "                \n",
    "            file.close()\n",
    "    else:\n",
    "        if \",\" in in_file:\n",
    "            delim = \",\"\n",
    "        elif \"\\t\" in in_file:\n",
    "            delim = \"\\t\"\n",
    "        elif \":\" in in_file:\n",
    "            delim = \":\"\n",
    "        elif \";\" in in_file:\n",
    "            delim = \";\"\n",
    "        else:\n",
    "            delim = \" \"\n",
    "            # print(\"Unrecognized delimiter from input string\")\n",
    "    \n",
    "    return delim"
   ]
  },
  {
   "cell_type": "code",
   "execution_count": 6,
   "metadata": {},
   "outputs": [],
   "source": [
    "# find_delim(t,True)"
   ]
  },
  {
   "cell_type": "code",
   "execution_count": 21,
   "metadata": {},
   "outputs": [],
   "source": [
    "def mk_df(in_file,verbose=False):\n",
    "    '''\n",
    "    Creates a (pandas) dataframe from an input file.\n",
    "    \n",
    "    Arguments:\n",
    "        in_file (file): Input file.\n",
    "        verbose (boolean): Enable verbose output\n",
    "    Returns:\n",
    "        df (dataframe): Output dataframe\n",
    "    '''\n",
    "    \n",
    "    delim = find_delim(in_file=in_file,verbose=verbose)\n",
    "    df = pd.read_csv(in_file,sep=delim)\n",
    "    \n",
    "    col_names = list(df.columns)\n",
    "    df.sort_values(by=col_names[0],axis=0,inplace=True,ascending=True,kind='quicksort')\n",
    "    \n",
    "    return df"
   ]
  },
  {
   "cell_type": "code",
   "execution_count": 118,
   "metadata": {},
   "outputs": [],
   "source": [
    "# df.sort_values(by=col_names[0],axis=0,inplace=True,ascending=False)\n",
    "# df"
   ]
  },
  {
   "cell_type": "code",
   "execution_count": 5,
   "metadata": {
    "scrolled": true
   },
   "outputs": [
    {
     "data": {
      "text/html": [
       "<div>\n",
       "<style scoped>\n",
       "    .dataframe tbody tr th:only-of-type {\n",
       "        vertical-align: middle;\n",
       "    }\n",
       "\n",
       "    .dataframe tbody tr th {\n",
       "        vertical-align: top;\n",
       "    }\n",
       "\n",
       "    .dataframe thead th {\n",
       "        text-align: right;\n",
       "    }\n",
       "</style>\n",
       "<table border=\"1\" class=\"dataframe\">\n",
       "  <thead>\n",
       "    <tr style=\"text-align: right;\">\n",
       "      <th></th>\n",
       "      <th>participants_id</th>\n",
       "      <th>age</th>\n",
       "      <th>sex</th>\n",
       "      <th>cov_1</th>\n",
       "      <th>cov_2</th>\n",
       "    </tr>\n",
       "  </thead>\n",
       "  <tbody>\n",
       "    <tr>\n",
       "      <td>9</td>\n",
       "      <td>sub-001</td>\n",
       "      <td>33</td>\n",
       "      <td>F</td>\n",
       "      <td>19.0</td>\n",
       "      <td>45.1230</td>\n",
       "    </tr>\n",
       "    <tr>\n",
       "      <td>8</td>\n",
       "      <td>sub-002</td>\n",
       "      <td>15</td>\n",
       "      <td>F</td>\n",
       "      <td>79.0</td>\n",
       "      <td>NaN</td>\n",
       "    </tr>\n",
       "    <tr>\n",
       "      <td>7</td>\n",
       "      <td>sub-003</td>\n",
       "      <td>32</td>\n",
       "      <td>M</td>\n",
       "      <td>NaN</td>\n",
       "      <td>79.4540</td>\n",
       "    </tr>\n",
       "    <tr>\n",
       "      <td>6</td>\n",
       "      <td>sub-004</td>\n",
       "      <td>16</td>\n",
       "      <td>M</td>\n",
       "      <td>NaN</td>\n",
       "      <td>NaN</td>\n",
       "    </tr>\n",
       "    <tr>\n",
       "      <td>5</td>\n",
       "      <td>sub-005</td>\n",
       "      <td>21</td>\n",
       "      <td>F</td>\n",
       "      <td>60.0</td>\n",
       "      <td>23.2940</td>\n",
       "    </tr>\n",
       "    <tr>\n",
       "      <td>4</td>\n",
       "      <td>sub-006</td>\n",
       "      <td>18</td>\n",
       "      <td>M</td>\n",
       "      <td>20.0</td>\n",
       "      <td>NaN</td>\n",
       "    </tr>\n",
       "    <tr>\n",
       "      <td>3</td>\n",
       "      <td>sub-007</td>\n",
       "      <td>31</td>\n",
       "      <td>M</td>\n",
       "      <td>NaN</td>\n",
       "      <td>14.4846</td>\n",
       "    </tr>\n",
       "    <tr>\n",
       "      <td>2</td>\n",
       "      <td>sub-008</td>\n",
       "      <td>19</td>\n",
       "      <td>F</td>\n",
       "      <td>56.0</td>\n",
       "      <td>23.8400</td>\n",
       "    </tr>\n",
       "    <tr>\n",
       "      <td>1</td>\n",
       "      <td>sub-009</td>\n",
       "      <td>17</td>\n",
       "      <td>F</td>\n",
       "      <td>59.0</td>\n",
       "      <td>46.7870</td>\n",
       "    </tr>\n",
       "    <tr>\n",
       "      <td>0</td>\n",
       "      <td>sub-010</td>\n",
       "      <td>28</td>\n",
       "      <td>M</td>\n",
       "      <td>23.0</td>\n",
       "      <td>56.4940</td>\n",
       "    </tr>\n",
       "  </tbody>\n",
       "</table>\n",
       "</div>"
      ],
      "text/plain": [
       "  participants_id  age sex  cov_1    cov_2\n",
       "9         sub-001   33   F   19.0  45.1230\n",
       "8         sub-002   15   F   79.0      NaN\n",
       "7         sub-003   32   M    NaN  79.4540\n",
       "6         sub-004   16   M    NaN      NaN\n",
       "5         sub-005   21   F   60.0  23.2940\n",
       "4         sub-006   18   M   20.0      NaN\n",
       "3         sub-007   31   M    NaN  14.4846\n",
       "2         sub-008   19   F   56.0  23.8400\n",
       "1         sub-009   17   F   59.0  46.7870\n",
       "0         sub-010   28   M   23.0  56.4940"
      ]
     },
     "execution_count": 5,
     "metadata": {},
     "output_type": "execute_result"
    }
   ],
   "source": [
    "df = mk_df(in_file=t)\n",
    "df"
   ]
  },
  {
   "cell_type": "code",
   "execution_count": 10,
   "metadata": {},
   "outputs": [],
   "source": [
    "# remove subjects if need be (e.g. failed QC)\n",
    "# remove subjects with missing covariates\n",
    "# print new dataframe/design\n",
    "# print subject inclusion list\n",
    "# print subject exclusion list\n",
    "# print list of design variables"
   ]
  },
  {
   "cell_type": "code",
   "execution_count": 11,
   "metadata": {},
   "outputs": [],
   "source": [
    "# col_names = list(df.columns)\n",
    "# col_names"
   ]
  },
  {
   "cell_type": "code",
   "execution_count": 12,
   "metadata": {},
   "outputs": [],
   "source": [
    "# col_names.index('participants_id',0)"
   ]
  },
  {
   "cell_type": "code",
   "execution_count": 13,
   "metadata": {},
   "outputs": [],
   "source": [
    "# rm_list = ['sub-001','sub-002']\n",
    "# rm_list = list()"
   ]
  },
  {
   "cell_type": "code",
   "execution_count": 14,
   "metadata": {
    "scrolled": true
   },
   "outputs": [],
   "source": [
    "# for r in rm_list:\n",
    "#     df.drop(df[df[col_names[0]] == r ].index, inplace=True)\n",
    "    \n",
    "# df"
   ]
  },
  {
   "cell_type": "code",
   "execution_count": 15,
   "metadata": {},
   "outputs": [],
   "source": [
    "# df.drop(df[df['participants_id'] == 'sub-001'].index, inplace=True)\n",
    "# df"
   ]
  },
  {
   "cell_type": "code",
   "execution_count": 22,
   "metadata": {},
   "outputs": [],
   "source": [
    "def rm_sub(df,rm_list):\n",
    "    '''\n",
    "    Removes a list of subjects from some dataframe. Note that this \n",
    "    change is done in-place.\n",
    "    \n",
    "    Arguments:\n",
    "        df (dataframe): Input dataframe.\n",
    "        rm_list (list): List of subjects to remove from dataframe\n",
    "    Returns:\n",
    "        df (dataframe): Output dataframe with subjects in list removed\n",
    "    '''\n",
    "    \n",
    "    col_names = list(df.columns)\n",
    "    \n",
    "    if len(rm_list) != 0:\n",
    "        for r in rm_list:\n",
    "            df.drop(df[df[col_names[0]] == r ].index, inplace=True)\n",
    "        \n",
    "    return df"
   ]
  },
  {
   "cell_type": "code",
   "execution_count": 13,
   "metadata": {},
   "outputs": [],
   "source": [
    "# df_2 = rm_sub(df=df,rm_list=rm_list)\n",
    "# df_2"
   ]
  },
  {
   "cell_type": "code",
   "execution_count": 14,
   "metadata": {
    "scrolled": true
   },
   "outputs": [],
   "source": [
    "# df_2\n",
    "# df_2.loc[df_2['cov_1'] == 'NaN' ]\n",
    "# df_2.loc[df_2['cov_1'] != \"NaN\" ].dropna(axis='rows')\n",
    "# df_2[df_2['cov_1'].astype(str).str.contains(\"NaN\")]\n",
    "# df_2.dropna(subset=['cov_1'],inplace=True)\n",
    "# df_2.dropna(subset=['cov_2'],inplace=True)\n",
    "# df_2"
   ]
  },
  {
   "cell_type": "code",
   "execution_count": 19,
   "metadata": {
    "scrolled": true
   },
   "outputs": [],
   "source": [
    "# df_2['cov_1'].dropna(axis='rows')"
   ]
  },
  {
   "cell_type": "code",
   "execution_count": 15,
   "metadata": {},
   "outputs": [],
   "source": [
    "# df_2"
   ]
  },
  {
   "cell_type": "code",
   "execution_count": 16,
   "metadata": {},
   "outputs": [],
   "source": [
    "# # kp_cols = ['age','sex','cov_1']\n",
    "# kp_cols = list()\n",
    "# kp_list = [1,2,3]"
   ]
  },
  {
   "cell_type": "code",
   "execution_count": 17,
   "metadata": {},
   "outputs": [],
   "source": [
    "# df_3 = df_2[kp_cols].copy()\n",
    "# df_3"
   ]
  },
  {
   "cell_type": "code",
   "execution_count": 18,
   "metadata": {},
   "outputs": [],
   "source": [
    "# col_names = list(df.columns)\n",
    "# col_names"
   ]
  },
  {
   "cell_type": "code",
   "execution_count": 19,
   "metadata": {},
   "outputs": [],
   "source": [
    "# col_names[0]"
   ]
  },
  {
   "cell_type": "code",
   "execution_count": 25,
   "metadata": {},
   "outputs": [],
   "source": [
    "# kp_cols.insert(0,col_names[0])"
   ]
  },
  {
   "cell_type": "code",
   "execution_count": 20,
   "metadata": {},
   "outputs": [],
   "source": [
    "# kp_cols"
   ]
  },
  {
   "cell_type": "code",
   "execution_count": 21,
   "metadata": {},
   "outputs": [],
   "source": [
    "# for idx in kp_list:\n",
    "#     kp_cols.append(col_names[idx])\n",
    "    \n",
    "# kp_cols"
   ]
  },
  {
   "cell_type": "code",
   "execution_count": 22,
   "metadata": {},
   "outputs": [],
   "source": [
    "# df_2.dropna(subset=kp_cols,inplace=True)\n",
    "# df_2"
   ]
  },
  {
   "cell_type": "code",
   "execution_count": 23,
   "metadata": {},
   "outputs": [],
   "source": [
    "def keep_columns(df,kp_list=[],rm_nan=True):\n",
    "    '''\n",
    "    Creates an output dataframe that contains only the specified column\n",
    "    indices (e.g. numerical index starting at 0 and not the column names).\n",
    "    The output dataframe will also drop subjects that contain NaNs for all\n",
    "    covariates of interest.\n",
    "    \n",
    "    Arguments:\n",
    "        df (dataframe): Input dataframe.\n",
    "        kp_list (list): List of df column name indices to be kept. The indices should follow that of the input TSV or CSV file.\n",
    "        rm_nan (boolean): Drops subjects that contain NaNs \n",
    "    Returns:\n",
    "        df_2 (dataframe): Output dataframe with only the selected columns remaining.\n",
    "    '''\n",
    "    \n",
    "    # Create column list\n",
    "    col_names = list(df.columns)\n",
    "    \n",
    "    # Init keep-cols list\n",
    "    kp_cols = list()\n",
    "    kp_cols.insert(0,col_names[0])\n",
    "    \n",
    "    # Check for empty input list\n",
    "    if len(kp_list) == 0:\n",
    "        kp_list = range(1, len(col_names), 1)\n",
    "    \n",
    "    # Create list of columns to keep\n",
    "    for idx in kp_list:\n",
    "        kp_cols.append(col_names[idx])\n",
    "        \n",
    "    # Create new dataframe\n",
    "    df_2 = df[kp_cols].copy()\n",
    "    \n",
    "    # Exclude subjects with NaNs\n",
    "    if rm_nan:\n",
    "        df_2.dropna(subset=kp_cols,inplace=True)\n",
    "    \n",
    "    return df_2"
   ]
  },
  {
   "cell_type": "code",
   "execution_count": 92,
   "metadata": {},
   "outputs": [
    {
     "data": {
      "text/html": [
       "<div>\n",
       "<style scoped>\n",
       "    .dataframe tbody tr th:only-of-type {\n",
       "        vertical-align: middle;\n",
       "    }\n",
       "\n",
       "    .dataframe tbody tr th {\n",
       "        vertical-align: top;\n",
       "    }\n",
       "\n",
       "    .dataframe thead th {\n",
       "        text-align: right;\n",
       "    }\n",
       "</style>\n",
       "<table border=\"1\" class=\"dataframe\">\n",
       "  <thead>\n",
       "    <tr style=\"text-align: right;\">\n",
       "      <th></th>\n",
       "      <th>participants_id</th>\n",
       "      <th>age</th>\n",
       "      <th>sex</th>\n",
       "      <th>cov_1</th>\n",
       "      <th>cov_2</th>\n",
       "    </tr>\n",
       "  </thead>\n",
       "  <tbody>\n",
       "    <tr>\n",
       "      <td>9</td>\n",
       "      <td>sub-001</td>\n",
       "      <td>33</td>\n",
       "      <td>F</td>\n",
       "      <td>19.0</td>\n",
       "      <td>45.1230</td>\n",
       "    </tr>\n",
       "    <tr>\n",
       "      <td>8</td>\n",
       "      <td>sub-002</td>\n",
       "      <td>15</td>\n",
       "      <td>F</td>\n",
       "      <td>79.0</td>\n",
       "      <td>NaN</td>\n",
       "    </tr>\n",
       "    <tr>\n",
       "      <td>7</td>\n",
       "      <td>sub-003</td>\n",
       "      <td>32</td>\n",
       "      <td>M</td>\n",
       "      <td>NaN</td>\n",
       "      <td>79.4540</td>\n",
       "    </tr>\n",
       "    <tr>\n",
       "      <td>6</td>\n",
       "      <td>sub-004</td>\n",
       "      <td>16</td>\n",
       "      <td>M</td>\n",
       "      <td>NaN</td>\n",
       "      <td>NaN</td>\n",
       "    </tr>\n",
       "    <tr>\n",
       "      <td>5</td>\n",
       "      <td>sub-005</td>\n",
       "      <td>21</td>\n",
       "      <td>F</td>\n",
       "      <td>60.0</td>\n",
       "      <td>23.2940</td>\n",
       "    </tr>\n",
       "    <tr>\n",
       "      <td>4</td>\n",
       "      <td>sub-006</td>\n",
       "      <td>18</td>\n",
       "      <td>M</td>\n",
       "      <td>20.0</td>\n",
       "      <td>NaN</td>\n",
       "    </tr>\n",
       "    <tr>\n",
       "      <td>3</td>\n",
       "      <td>sub-007</td>\n",
       "      <td>31</td>\n",
       "      <td>M</td>\n",
       "      <td>NaN</td>\n",
       "      <td>14.4846</td>\n",
       "    </tr>\n",
       "    <tr>\n",
       "      <td>2</td>\n",
       "      <td>sub-008</td>\n",
       "      <td>19</td>\n",
       "      <td>F</td>\n",
       "      <td>56.0</td>\n",
       "      <td>23.8400</td>\n",
       "    </tr>\n",
       "    <tr>\n",
       "      <td>1</td>\n",
       "      <td>sub-009</td>\n",
       "      <td>17</td>\n",
       "      <td>F</td>\n",
       "      <td>59.0</td>\n",
       "      <td>46.7870</td>\n",
       "    </tr>\n",
       "    <tr>\n",
       "      <td>0</td>\n",
       "      <td>sub-010</td>\n",
       "      <td>28</td>\n",
       "      <td>M</td>\n",
       "      <td>23.0</td>\n",
       "      <td>56.4940</td>\n",
       "    </tr>\n",
       "  </tbody>\n",
       "</table>\n",
       "</div>"
      ],
      "text/plain": [
       "  participants_id  age sex  cov_1    cov_2\n",
       "9         sub-001   33   F   19.0  45.1230\n",
       "8         sub-002   15   F   79.0      NaN\n",
       "7         sub-003   32   M    NaN  79.4540\n",
       "6         sub-004   16   M    NaN      NaN\n",
       "5         sub-005   21   F   60.0  23.2940\n",
       "4         sub-006   18   M   20.0      NaN\n",
       "3         sub-007   31   M    NaN  14.4846\n",
       "2         sub-008   19   F   56.0  23.8400\n",
       "1         sub-009   17   F   59.0  46.7870\n",
       "0         sub-010   28   M   23.0  56.4940"
      ]
     },
     "execution_count": 92,
     "metadata": {},
     "output_type": "execute_result"
    }
   ],
   "source": [
    "# keep_columns(df=df,kp_list=[1,2,3],rm_nan=True)\n",
    "keep_columns(df=df,kp_list=\"\",rm_nan=False)"
   ]
  },
  {
   "cell_type": "code",
   "execution_count": 25,
   "metadata": {},
   "outputs": [
    {
     "data": {
      "text/html": [
       "<div>\n",
       "<style scoped>\n",
       "    .dataframe tbody tr th:only-of-type {\n",
       "        vertical-align: middle;\n",
       "    }\n",
       "\n",
       "    .dataframe tbody tr th {\n",
       "        vertical-align: top;\n",
       "    }\n",
       "\n",
       "    .dataframe thead th {\n",
       "        text-align: right;\n",
       "    }\n",
       "</style>\n",
       "<table border=\"1\" class=\"dataframe\">\n",
       "  <thead>\n",
       "    <tr style=\"text-align: right;\">\n",
       "      <th></th>\n",
       "      <th>participants_id</th>\n",
       "      <th>age</th>\n",
       "      <th>sex</th>\n",
       "      <th>cov_1</th>\n",
       "      <th>cov_2</th>\n",
       "    </tr>\n",
       "  </thead>\n",
       "  <tbody>\n",
       "    <tr>\n",
       "      <td>9</td>\n",
       "      <td>sub-001</td>\n",
       "      <td>33</td>\n",
       "      <td>F</td>\n",
       "      <td>19.0</td>\n",
       "      <td>45.1230</td>\n",
       "    </tr>\n",
       "    <tr>\n",
       "      <td>8</td>\n",
       "      <td>sub-002</td>\n",
       "      <td>15</td>\n",
       "      <td>F</td>\n",
       "      <td>79.0</td>\n",
       "      <td>NaN</td>\n",
       "    </tr>\n",
       "    <tr>\n",
       "      <td>7</td>\n",
       "      <td>sub-003</td>\n",
       "      <td>32</td>\n",
       "      <td>M</td>\n",
       "      <td>NaN</td>\n",
       "      <td>79.4540</td>\n",
       "    </tr>\n",
       "    <tr>\n",
       "      <td>6</td>\n",
       "      <td>sub-004</td>\n",
       "      <td>16</td>\n",
       "      <td>M</td>\n",
       "      <td>NaN</td>\n",
       "      <td>NaN</td>\n",
       "    </tr>\n",
       "    <tr>\n",
       "      <td>5</td>\n",
       "      <td>sub-005</td>\n",
       "      <td>21</td>\n",
       "      <td>F</td>\n",
       "      <td>60.0</td>\n",
       "      <td>23.2940</td>\n",
       "    </tr>\n",
       "    <tr>\n",
       "      <td>4</td>\n",
       "      <td>sub-006</td>\n",
       "      <td>18</td>\n",
       "      <td>M</td>\n",
       "      <td>20.0</td>\n",
       "      <td>NaN</td>\n",
       "    </tr>\n",
       "    <tr>\n",
       "      <td>3</td>\n",
       "      <td>sub-007</td>\n",
       "      <td>31</td>\n",
       "      <td>M</td>\n",
       "      <td>NaN</td>\n",
       "      <td>14.4846</td>\n",
       "    </tr>\n",
       "    <tr>\n",
       "      <td>2</td>\n",
       "      <td>sub-008</td>\n",
       "      <td>19</td>\n",
       "      <td>F</td>\n",
       "      <td>56.0</td>\n",
       "      <td>23.8400</td>\n",
       "    </tr>\n",
       "    <tr>\n",
       "      <td>1</td>\n",
       "      <td>sub-009</td>\n",
       "      <td>17</td>\n",
       "      <td>F</td>\n",
       "      <td>59.0</td>\n",
       "      <td>46.7870</td>\n",
       "    </tr>\n",
       "    <tr>\n",
       "      <td>0</td>\n",
       "      <td>sub-010</td>\n",
       "      <td>28</td>\n",
       "      <td>M</td>\n",
       "      <td>23.0</td>\n",
       "      <td>56.4940</td>\n",
       "    </tr>\n",
       "  </tbody>\n",
       "</table>\n",
       "</div>"
      ],
      "text/plain": [
       "  participants_id  age sex  cov_1    cov_2\n",
       "9         sub-001   33   F   19.0  45.1230\n",
       "8         sub-002   15   F   79.0      NaN\n",
       "7         sub-003   32   M    NaN  79.4540\n",
       "6         sub-004   16   M    NaN      NaN\n",
       "5         sub-005   21   F   60.0  23.2940\n",
       "4         sub-006   18   M   20.0      NaN\n",
       "3         sub-007   31   M    NaN  14.4846\n",
       "2         sub-008   19   F   56.0  23.8400\n",
       "1         sub-009   17   F   59.0  46.7870\n",
       "0         sub-010   28   M   23.0  56.4940"
      ]
     },
     "execution_count": 25,
     "metadata": {},
     "output_type": "execute_result"
    }
   ],
   "source": [
    "df"
   ]
  },
  {
   "cell_type": "code",
   "execution_count": 27,
   "metadata": {},
   "outputs": [],
   "source": [
    "# df_keep = pd.DataFrame({col_names[0] : []})\n",
    "# df_keep"
   ]
  },
  {
   "cell_type": "code",
   "execution_count": 28,
   "metadata": {},
   "outputs": [],
   "source": [
    "# col_names = list(df.columns)"
   ]
  },
  {
   "cell_type": "code",
   "execution_count": 29,
   "metadata": {},
   "outputs": [],
   "source": [
    "subs_keep = ['sub-001', 'sub-002','sub-003']"
   ]
  },
  {
   "cell_type": "code",
   "execution_count": 30,
   "metadata": {},
   "outputs": [],
   "source": [
    "# df.loc[df[col_names[0]] == 'sub-001' ]"
   ]
  },
  {
   "cell_type": "code",
   "execution_count": null,
   "metadata": {},
   "outputs": [],
   "source": []
  },
  {
   "cell_type": "code",
   "execution_count": 31,
   "metadata": {},
   "outputs": [],
   "source": [
    "# df_keep.append(df.loc[df[col_names[0]] == 'sub-001' ],sort=True)"
   ]
  },
  {
   "cell_type": "code",
   "execution_count": 24,
   "metadata": {},
   "outputs": [],
   "source": [
    "def subs_retain(df,subs_keep=[]):\n",
    "    '''\n",
    "    Creates a copy of dataframe that only includes a list of subjects. \n",
    "    \n",
    "    Arguments:\n",
    "        df (dataframe): Input dataframe.\n",
    "        subs_keep (list): List of subjects to create the dataframe from\n",
    "    Returns:\n",
    "        df_keep (dataframe): Output dataframe with subjects in list\n",
    "    '''\n",
    "    \n",
    "    col_names = list(df.columns)\n",
    "    df_keep = pd.DataFrame({col_names[0] : []})\n",
    "    \n",
    "    if len(subs_keep) != 0:\n",
    "        for sub in subs_keep:\n",
    "            df_keep = df_keep.append(df.loc[df[col_names[0]] == sub ],sort=True)\n",
    "    else:\n",
    "        df_keep = df\n",
    "        \n",
    "    return df_keep"
   ]
  },
  {
   "cell_type": "code",
   "execution_count": null,
   "metadata": {},
   "outputs": [],
   "source": []
  },
  {
   "cell_type": "code",
   "execution_count": 34,
   "metadata": {},
   "outputs": [
    {
     "data": {
      "text/html": [
       "<div>\n",
       "<style scoped>\n",
       "    .dataframe tbody tr th:only-of-type {\n",
       "        vertical-align: middle;\n",
       "    }\n",
       "\n",
       "    .dataframe tbody tr th {\n",
       "        vertical-align: top;\n",
       "    }\n",
       "\n",
       "    .dataframe thead th {\n",
       "        text-align: right;\n",
       "    }\n",
       "</style>\n",
       "<table border=\"1\" class=\"dataframe\">\n",
       "  <thead>\n",
       "    <tr style=\"text-align: right;\">\n",
       "      <th></th>\n",
       "      <th>age</th>\n",
       "      <th>cov_1</th>\n",
       "      <th>cov_2</th>\n",
       "      <th>participants_id</th>\n",
       "      <th>sex</th>\n",
       "    </tr>\n",
       "  </thead>\n",
       "  <tbody>\n",
       "    <tr>\n",
       "      <td>9</td>\n",
       "      <td>33.0</td>\n",
       "      <td>19.0</td>\n",
       "      <td>45.123</td>\n",
       "      <td>sub-001</td>\n",
       "      <td>F</td>\n",
       "    </tr>\n",
       "    <tr>\n",
       "      <td>8</td>\n",
       "      <td>15.0</td>\n",
       "      <td>79.0</td>\n",
       "      <td>NaN</td>\n",
       "      <td>sub-002</td>\n",
       "      <td>F</td>\n",
       "    </tr>\n",
       "    <tr>\n",
       "      <td>7</td>\n",
       "      <td>32.0</td>\n",
       "      <td>NaN</td>\n",
       "      <td>79.454</td>\n",
       "      <td>sub-003</td>\n",
       "      <td>M</td>\n",
       "    </tr>\n",
       "  </tbody>\n",
       "</table>\n",
       "</div>"
      ],
      "text/plain": [
       "    age  cov_1   cov_2 participants_id sex\n",
       "9  33.0   19.0  45.123         sub-001   F\n",
       "8  15.0   79.0     NaN         sub-002   F\n",
       "7  32.0    NaN  79.454         sub-003   M"
      ]
     },
     "execution_count": 34,
     "metadata": {},
     "output_type": "execute_result"
    }
   ],
   "source": [
    "subs_retain(df=df,subs_keep=['sub-001', 'sub-002','sub-003'])\n",
    "# subs_retain(df=df,subs_keep=['sub-001'])"
   ]
  },
  {
   "cell_type": "code",
   "execution_count": 35,
   "metadata": {
    "scrolled": true
   },
   "outputs": [
    {
     "data": {
      "text/html": [
       "<div>\n",
       "<style scoped>\n",
       "    .dataframe tbody tr th:only-of-type {\n",
       "        vertical-align: middle;\n",
       "    }\n",
       "\n",
       "    .dataframe tbody tr th {\n",
       "        vertical-align: top;\n",
       "    }\n",
       "\n",
       "    .dataframe thead th {\n",
       "        text-align: right;\n",
       "    }\n",
       "</style>\n",
       "<table border=\"1\" class=\"dataframe\">\n",
       "  <thead>\n",
       "    <tr style=\"text-align: right;\">\n",
       "      <th></th>\n",
       "      <th>participants_id</th>\n",
       "      <th>age</th>\n",
       "      <th>sex</th>\n",
       "      <th>cov_1</th>\n",
       "      <th>cov_2</th>\n",
       "    </tr>\n",
       "  </thead>\n",
       "  <tbody>\n",
       "    <tr>\n",
       "      <td>9</td>\n",
       "      <td>sub-001</td>\n",
       "      <td>33</td>\n",
       "      <td>F</td>\n",
       "      <td>19.0</td>\n",
       "      <td>45.1230</td>\n",
       "    </tr>\n",
       "    <tr>\n",
       "      <td>8</td>\n",
       "      <td>sub-002</td>\n",
       "      <td>15</td>\n",
       "      <td>F</td>\n",
       "      <td>79.0</td>\n",
       "      <td>NaN</td>\n",
       "    </tr>\n",
       "    <tr>\n",
       "      <td>7</td>\n",
       "      <td>sub-003</td>\n",
       "      <td>32</td>\n",
       "      <td>M</td>\n",
       "      <td>NaN</td>\n",
       "      <td>79.4540</td>\n",
       "    </tr>\n",
       "    <tr>\n",
       "      <td>6</td>\n",
       "      <td>sub-004</td>\n",
       "      <td>16</td>\n",
       "      <td>M</td>\n",
       "      <td>NaN</td>\n",
       "      <td>NaN</td>\n",
       "    </tr>\n",
       "    <tr>\n",
       "      <td>5</td>\n",
       "      <td>sub-005</td>\n",
       "      <td>21</td>\n",
       "      <td>F</td>\n",
       "      <td>60.0</td>\n",
       "      <td>23.2940</td>\n",
       "    </tr>\n",
       "    <tr>\n",
       "      <td>4</td>\n",
       "      <td>sub-006</td>\n",
       "      <td>18</td>\n",
       "      <td>M</td>\n",
       "      <td>20.0</td>\n",
       "      <td>NaN</td>\n",
       "    </tr>\n",
       "    <tr>\n",
       "      <td>3</td>\n",
       "      <td>sub-007</td>\n",
       "      <td>31</td>\n",
       "      <td>M</td>\n",
       "      <td>NaN</td>\n",
       "      <td>14.4846</td>\n",
       "    </tr>\n",
       "    <tr>\n",
       "      <td>2</td>\n",
       "      <td>sub-008</td>\n",
       "      <td>19</td>\n",
       "      <td>F</td>\n",
       "      <td>56.0</td>\n",
       "      <td>23.8400</td>\n",
       "    </tr>\n",
       "    <tr>\n",
       "      <td>1</td>\n",
       "      <td>sub-009</td>\n",
       "      <td>17</td>\n",
       "      <td>F</td>\n",
       "      <td>59.0</td>\n",
       "      <td>46.7870</td>\n",
       "    </tr>\n",
       "    <tr>\n",
       "      <td>0</td>\n",
       "      <td>sub-010</td>\n",
       "      <td>28</td>\n",
       "      <td>M</td>\n",
       "      <td>23.0</td>\n",
       "      <td>56.4940</td>\n",
       "    </tr>\n",
       "  </tbody>\n",
       "</table>\n",
       "</div>"
      ],
      "text/plain": [
       "  participants_id  age sex  cov_1    cov_2\n",
       "9         sub-001   33   F   19.0  45.1230\n",
       "8         sub-002   15   F   79.0      NaN\n",
       "7         sub-003   32   M    NaN  79.4540\n",
       "6         sub-004   16   M    NaN      NaN\n",
       "5         sub-005   21   F   60.0  23.2940\n",
       "4         sub-006   18   M   20.0      NaN\n",
       "3         sub-007   31   M    NaN  14.4846\n",
       "2         sub-008   19   F   56.0  23.8400\n",
       "1         sub-009   17   F   59.0  46.7870\n",
       "0         sub-010   28   M   23.0  56.4940"
      ]
     },
     "execution_count": 35,
     "metadata": {},
     "output_type": "execute_result"
    }
   ],
   "source": [
    "df"
   ]
  },
  {
   "cell_type": "code",
   "execution_count": 36,
   "metadata": {},
   "outputs": [],
   "source": [
    "# all_subs = df[col_names[0]].to_list()\n",
    "# all_subs"
   ]
  },
  {
   "cell_type": "code",
   "execution_count": 47,
   "metadata": {},
   "outputs": [],
   "source": [
    "subs_keep=['sub-001', 'sub-002','sub-003']\n",
    "rm_list = ['sub-010','sub-009']"
   ]
  },
  {
   "cell_type": "code",
   "execution_count": 42,
   "metadata": {},
   "outputs": [
    {
     "data": {
      "text/plain": [
       "{'sub-003', 'sub-006', 'sub-010'}"
      ]
     },
     "execution_count": 42,
     "metadata": {},
     "output_type": "execute_result"
    }
   ],
   "source": [
    "# all_subs_set = set(all_subs)\n",
    "# all_subs_set"
   ]
  },
  {
   "cell_type": "code",
   "execution_count": 38,
   "metadata": {},
   "outputs": [],
   "source": [
    "# subs_keep_set = set(subs_keep)\n",
    "# rm_list_set = set(rm_list)"
   ]
  },
  {
   "cell_type": "code",
   "execution_count": 39,
   "metadata": {},
   "outputs": [],
   "source": [
    "# subs_keep_set"
   ]
  },
  {
   "cell_type": "code",
   "execution_count": 40,
   "metadata": {},
   "outputs": [],
   "source": [
    "# all_subs_set.difference(subs_keep_set)"
   ]
  },
  {
   "cell_type": "code",
   "execution_count": 41,
   "metadata": {},
   "outputs": [],
   "source": [
    "# rm_list"
   ]
  },
  {
   "cell_type": "code",
   "execution_count": 42,
   "metadata": {},
   "outputs": [],
   "source": [
    "# rm_list_set"
   ]
  },
  {
   "cell_type": "code",
   "execution_count": 43,
   "metadata": {},
   "outputs": [],
   "source": [
    "# rm_list_set.update(all_subs_set.difference(subs_keep_set))"
   ]
  },
  {
   "cell_type": "code",
   "execution_count": 44,
   "metadata": {},
   "outputs": [],
   "source": [
    "# rm_list_set"
   ]
  },
  {
   "cell_type": "code",
   "execution_count": 40,
   "metadata": {},
   "outputs": [],
   "source": [
    "def mk_adj_sub_list(df,rm_list=[],keep_list=[]):\n",
    "    '''\n",
    "    Creates an adjusted subject inclusion (keep_list) and exclusion (rm_list)\n",
    "    lists using some input dataframe. The input rm_list is updated to \n",
    "    reflect subjects removed from the design matrix as a result of \n",
    "    manual exclusion or missing data.\n",
    "    \n",
    "    Arguments:\n",
    "        df (dataframe): Input dataframe.\n",
    "        rm_list (list): List of subjects to remove.\n",
    "        keep_list (list): List of subjects to retain.\n",
    "    Returns:\n",
    "        rm_list_adj (list): Adjusted rm_list that lists all excluded subjects.\n",
    "        keep_list_adj (list): Adjusted keep_list that list all the included subjects.\n",
    "    '''\n",
    "    \n",
    "    # Create list from dataframe subject IDs\n",
    "    col_names = list(df.columns)\n",
    "    all_subs = df[col_names[0]].to_list()\n",
    "    \n",
    "    # Create sets from lists\n",
    "    all_subs_set = set(all_subs)\n",
    "    subs_keep_set = set(keep_list)\n",
    "    rm_list_set = set(rm_list)\n",
    "    \n",
    "    if len(rm_list) != 0 and len(keep_list) != 0:\n",
    "        rm_list_set.update(all_subs_set.difference(subs_keep_set))\n",
    "    elif len(rm_list) != 0:\n",
    "        subs_keep_set.update(all_subs_set.difference(rm_list_set))\n",
    "        rm_list_set.update(all_subs_set.difference(subs_keep_set))\n",
    "    \n",
    "    rm_list_adj = list(rm_list_set)\n",
    "    keep_list_adj = list(subs_keep_set)\n",
    "    \n",
    "    return rm_list_adj, keep_list_adj"
   ]
  },
  {
   "cell_type": "code",
   "execution_count": 50,
   "metadata": {},
   "outputs": [
    {
     "data": {
      "text/plain": [
       "(['sub-006', 'sub-010', 'sub-007', 'sub-009', 'sub-008', 'sub-004', 'sub-005'],\n",
       " ['sub-003', 'sub-002', 'sub-001'])"
      ]
     },
     "execution_count": 50,
     "metadata": {},
     "output_type": "execute_result"
    }
   ],
   "source": [
    "mk_adj_sub_list(df=df,rm_list=rm_list,keep_list=subs_keep)"
   ]
  },
  {
   "cell_type": "code",
   "execution_count": 26,
   "metadata": {},
   "outputs": [],
   "source": [
    "def list_to_file(in_list,out_file):\n",
    "    '''\n",
    "    Writes some input list to some file.\n",
    "    \n",
    "    Arguments:\n",
    "        in_list (list): List of subjects.\n",
    "        out_file (file): Output filename.\n",
    "    Returns:\n",
    "        out_file (file): Output file.\n",
    "    '''\n",
    "    \n",
    "    # Write list to file\n",
    "    with open(out_file,\"w\") as f:\n",
    "        for sub in in_list:\n",
    "            f.write(\"%s\\n\" % sub)\n",
    "        f.close()\n",
    "            \n",
    "    return out_file"
   ]
  },
  {
   "cell_type": "code",
   "execution_count": 27,
   "metadata": {},
   "outputs": [],
   "source": [
    "def file_to_list(file):\n",
    "    '''\n",
    "    Reads a file into a list, assuming the file is separated by newline \n",
    "    characters.\n",
    "    \n",
    "    Arguments:\n",
    "        file (file): Input file to be read.\n",
    "    Returns:\n",
    "        lines (list): List from input file.\n",
    "    '''\n",
    "    \n",
    "    # Read file into list\n",
    "    with open(file,\"r\") as f:\n",
    "        lines = f.read().splitlines()\n",
    "        f.close()\n",
    "        \n",
    "    lines.sort()\n",
    "        \n",
    "    return lines"
   ]
  },
  {
   "cell_type": "code",
   "execution_count": 53,
   "metadata": {},
   "outputs": [],
   "source": [
    "# list_to_file(in_list=rm_list,file='test.txt')"
   ]
  },
  {
   "cell_type": "code",
   "execution_count": 54,
   "metadata": {},
   "outputs": [],
   "source": [
    "# rm_list"
   ]
  },
  {
   "cell_type": "code",
   "execution_count": 75,
   "metadata": {},
   "outputs": [],
   "source": [
    "# remember to sort lists prior to using base functions\n",
    "# write function to separate out string of args to list"
   ]
  },
  {
   "cell_type": "code",
   "execution_count": 56,
   "metadata": {},
   "outputs": [
    {
     "data": {
      "text/plain": [
       "['sub-009', 'sub-010']"
      ]
     },
     "execution_count": 56,
     "metadata": {},
     "output_type": "execute_result"
    }
   ],
   "source": [
    "file_to_list('test.txt')"
   ]
  },
  {
   "cell_type": "code",
   "execution_count": 75,
   "metadata": {},
   "outputs": [
    {
     "name": "stdout",
     "output_type": "stream",
     "text": [
      "['sub-009', 'sub-010']\n"
     ]
    }
   ],
   "source": [
    "# s.sort()\n",
    "# print(s)"
   ]
  },
  {
   "cell_type": "code",
   "execution_count": 61,
   "metadata": {},
   "outputs": [],
   "source": [
    "# string = \"sub-003,sub-002,sub-001\"\n",
    "string = \"sub-001\""
   ]
  },
  {
   "cell_type": "code",
   "execution_count": 62,
   "metadata": {},
   "outputs": [
    {
     "data": {
      "text/plain": [
       "['sub-001']"
      ]
     },
     "execution_count": 62,
     "metadata": {},
     "output_type": "execute_result"
    }
   ],
   "source": [
    "string.split(sep=\",\")"
   ]
  },
  {
   "cell_type": "code",
   "execution_count": 28,
   "metadata": {},
   "outputs": [],
   "source": [
    "def parse_str_list(string):\n",
    "    '''\n",
    "    Parses a file or string into a list.\n",
    "    \n",
    "    Arguments:\n",
    "        string (file or string): Input file or string to be read.\n",
    "    Returns:\n",
    "        sub_list (list): List of subjects from file or string.\n",
    "    '''\n",
    "    \n",
    "    delim = find_delim(in_file=string)\n",
    "    in_list = string.split(sep=delim)\n",
    "    in_list.sort()\n",
    "    \n",
    "    if len(in_list) == 1:\n",
    "        if os.path.exists(string):\n",
    "            sub_list = file_to_list(file=string)\n",
    "        else:\n",
    "            sub_list = in_list\n",
    "    elif len(in_list) > 1:\n",
    "        sub_list = in_list\n",
    "        \n",
    "    return sub_list"
   ]
  },
  {
   "cell_type": "code",
   "execution_count": 73,
   "metadata": {},
   "outputs": [
    {
     "data": {
      "text/plain": [
       "True"
      ]
     },
     "execution_count": 73,
     "metadata": {},
     "output_type": "execute_result"
    }
   ],
   "source": [
    "os.path.exists(\"test.txt\")"
   ]
  },
  {
   "cell_type": "code",
   "execution_count": 87,
   "metadata": {},
   "outputs": [
    {
     "data": {
      "text/plain": [
       "'\\n'"
      ]
     },
     "execution_count": 87,
     "metadata": {},
     "output_type": "execute_result"
    }
   ],
   "source": [
    "find_delim(in_file=\"test.txt\")"
   ]
  },
  {
   "cell_type": "code",
   "execution_count": 14,
   "metadata": {},
   "outputs": [
    {
     "data": {
      "text/plain": [
       "['sub-001', 'sub-002', 'sub-003']"
      ]
     },
     "execution_count": 14,
     "metadata": {},
     "output_type": "execute_result"
    }
   ],
   "source": [
    "parse_str_list(string=\"sub-003,sub-002,sub-001\")"
   ]
  },
  {
   "cell_type": "code",
   "execution_count": 17,
   "metadata": {},
   "outputs": [
    {
     "data": {
      "text/plain": [
       "['sub-009', 'sub-010']"
      ]
     },
     "execution_count": 17,
     "metadata": {},
     "output_type": "execute_result"
    }
   ],
   "source": [
    "parse_str_list(string=\"test.txt\")"
   ]
  },
  {
   "cell_type": "code",
   "execution_count": 93,
   "metadata": {
    "scrolled": true
   },
   "outputs": [
    {
     "data": {
      "text/html": [
       "<div>\n",
       "<style scoped>\n",
       "    .dataframe tbody tr th:only-of-type {\n",
       "        vertical-align: middle;\n",
       "    }\n",
       "\n",
       "    .dataframe tbody tr th {\n",
       "        vertical-align: top;\n",
       "    }\n",
       "\n",
       "    .dataframe thead th {\n",
       "        text-align: right;\n",
       "    }\n",
       "</style>\n",
       "<table border=\"1\" class=\"dataframe\">\n",
       "  <thead>\n",
       "    <tr style=\"text-align: right;\">\n",
       "      <th></th>\n",
       "      <th>participants_id</th>\n",
       "      <th>age</th>\n",
       "      <th>sex</th>\n",
       "      <th>cov_1</th>\n",
       "      <th>cov_2</th>\n",
       "    </tr>\n",
       "  </thead>\n",
       "  <tbody>\n",
       "    <tr>\n",
       "      <td>9</td>\n",
       "      <td>sub-001</td>\n",
       "      <td>33</td>\n",
       "      <td>F</td>\n",
       "      <td>19.0</td>\n",
       "      <td>45.1230</td>\n",
       "    </tr>\n",
       "    <tr>\n",
       "      <td>8</td>\n",
       "      <td>sub-002</td>\n",
       "      <td>15</td>\n",
       "      <td>F</td>\n",
       "      <td>79.0</td>\n",
       "      <td>NaN</td>\n",
       "    </tr>\n",
       "    <tr>\n",
       "      <td>7</td>\n",
       "      <td>sub-003</td>\n",
       "      <td>32</td>\n",
       "      <td>M</td>\n",
       "      <td>NaN</td>\n",
       "      <td>79.4540</td>\n",
       "    </tr>\n",
       "    <tr>\n",
       "      <td>6</td>\n",
       "      <td>sub-004</td>\n",
       "      <td>16</td>\n",
       "      <td>M</td>\n",
       "      <td>NaN</td>\n",
       "      <td>NaN</td>\n",
       "    </tr>\n",
       "    <tr>\n",
       "      <td>5</td>\n",
       "      <td>sub-005</td>\n",
       "      <td>21</td>\n",
       "      <td>F</td>\n",
       "      <td>60.0</td>\n",
       "      <td>23.2940</td>\n",
       "    </tr>\n",
       "    <tr>\n",
       "      <td>4</td>\n",
       "      <td>sub-006</td>\n",
       "      <td>18</td>\n",
       "      <td>M</td>\n",
       "      <td>20.0</td>\n",
       "      <td>NaN</td>\n",
       "    </tr>\n",
       "    <tr>\n",
       "      <td>3</td>\n",
       "      <td>sub-007</td>\n",
       "      <td>31</td>\n",
       "      <td>M</td>\n",
       "      <td>NaN</td>\n",
       "      <td>14.4846</td>\n",
       "    </tr>\n",
       "    <tr>\n",
       "      <td>2</td>\n",
       "      <td>sub-008</td>\n",
       "      <td>19</td>\n",
       "      <td>F</td>\n",
       "      <td>56.0</td>\n",
       "      <td>23.8400</td>\n",
       "    </tr>\n",
       "    <tr>\n",
       "      <td>1</td>\n",
       "      <td>sub-009</td>\n",
       "      <td>17</td>\n",
       "      <td>F</td>\n",
       "      <td>59.0</td>\n",
       "      <td>46.7870</td>\n",
       "    </tr>\n",
       "    <tr>\n",
       "      <td>0</td>\n",
       "      <td>sub-010</td>\n",
       "      <td>28</td>\n",
       "      <td>M</td>\n",
       "      <td>23.0</td>\n",
       "      <td>56.4940</td>\n",
       "    </tr>\n",
       "  </tbody>\n",
       "</table>\n",
       "</div>"
      ],
      "text/plain": [
       "  participants_id  age sex  cov_1    cov_2\n",
       "9         sub-001   33   F   19.0  45.1230\n",
       "8         sub-002   15   F   79.0      NaN\n",
       "7         sub-003   32   M    NaN  79.4540\n",
       "6         sub-004   16   M    NaN      NaN\n",
       "5         sub-005   21   F   60.0  23.2940\n",
       "4         sub-006   18   M   20.0      NaN\n",
       "3         sub-007   31   M    NaN  14.4846\n",
       "2         sub-008   19   F   56.0  23.8400\n",
       "1         sub-009   17   F   59.0  46.7870\n",
       "0         sub-010   28   M   23.0  56.4940"
      ]
     },
     "execution_count": 93,
     "metadata": {},
     "output_type": "execute_result"
    }
   ],
   "source": [
    "df"
   ]
  },
  {
   "cell_type": "code",
   "execution_count": 94,
   "metadata": {},
   "outputs": [],
   "source": [
    "df.to_csv(\"test.2.txt\",sep=\"\\t\",header=True,index=False)"
   ]
  },
  {
   "cell_type": "code",
   "execution_count": 100,
   "metadata": {},
   "outputs": [],
   "source": [
    "col_names = list(df.columns)"
   ]
  },
  {
   "cell_type": "code",
   "execution_count": 102,
   "metadata": {},
   "outputs": [
    {
     "data": {
      "text/plain": [
       "['age', 'sex', 'cov_1', 'cov_2']"
      ]
     },
     "execution_count": 102,
     "metadata": {},
     "output_type": "execute_result"
    }
   ],
   "source": [
    "col_names[1:]"
   ]
  },
  {
   "cell_type": "code",
   "execution_count": null,
   "metadata": {},
   "outputs": [],
   "source": []
  },
  {
   "cell_type": "code",
   "execution_count": null,
   "metadata": {},
   "outputs": [],
   "source": []
  },
  {
   "cell_type": "code",
   "execution_count": 109,
   "metadata": {},
   "outputs": [
    {
     "data": {
      "text/html": [
       "<div>\n",
       "<style scoped>\n",
       "    .dataframe tbody tr th:only-of-type {\n",
       "        vertical-align: middle;\n",
       "    }\n",
       "\n",
       "    .dataframe tbody tr th {\n",
       "        vertical-align: top;\n",
       "    }\n",
       "\n",
       "    .dataframe thead th {\n",
       "        text-align: right;\n",
       "    }\n",
       "</style>\n",
       "<table border=\"1\" class=\"dataframe\">\n",
       "  <thead>\n",
       "    <tr style=\"text-align: right;\">\n",
       "      <th></th>\n",
       "      <th>participants_id</th>\n",
       "      <th>age</th>\n",
       "      <th>sex</th>\n",
       "      <th>cov_1</th>\n",
       "      <th>cov_2</th>\n",
       "    </tr>\n",
       "  </thead>\n",
       "  <tbody>\n",
       "    <tr>\n",
       "      <td>9</td>\n",
       "      <td>sub-001</td>\n",
       "      <td>33</td>\n",
       "      <td>F</td>\n",
       "      <td>19.0</td>\n",
       "      <td>45.1230</td>\n",
       "    </tr>\n",
       "    <tr>\n",
       "      <td>8</td>\n",
       "      <td>sub-002</td>\n",
       "      <td>15</td>\n",
       "      <td>F</td>\n",
       "      <td>79.0</td>\n",
       "      <td>NaN</td>\n",
       "    </tr>\n",
       "    <tr>\n",
       "      <td>7</td>\n",
       "      <td>sub-003</td>\n",
       "      <td>32</td>\n",
       "      <td>M</td>\n",
       "      <td>NaN</td>\n",
       "      <td>79.4540</td>\n",
       "    </tr>\n",
       "    <tr>\n",
       "      <td>6</td>\n",
       "      <td>sub-004</td>\n",
       "      <td>16</td>\n",
       "      <td>M</td>\n",
       "      <td>NaN</td>\n",
       "      <td>NaN</td>\n",
       "    </tr>\n",
       "    <tr>\n",
       "      <td>5</td>\n",
       "      <td>sub-005</td>\n",
       "      <td>21</td>\n",
       "      <td>F</td>\n",
       "      <td>60.0</td>\n",
       "      <td>23.2940</td>\n",
       "    </tr>\n",
       "    <tr>\n",
       "      <td>4</td>\n",
       "      <td>sub-006</td>\n",
       "      <td>18</td>\n",
       "      <td>M</td>\n",
       "      <td>20.0</td>\n",
       "      <td>NaN</td>\n",
       "    </tr>\n",
       "    <tr>\n",
       "      <td>3</td>\n",
       "      <td>sub-007</td>\n",
       "      <td>31</td>\n",
       "      <td>M</td>\n",
       "      <td>NaN</td>\n",
       "      <td>14.4846</td>\n",
       "    </tr>\n",
       "    <tr>\n",
       "      <td>2</td>\n",
       "      <td>sub-008</td>\n",
       "      <td>19</td>\n",
       "      <td>F</td>\n",
       "      <td>56.0</td>\n",
       "      <td>23.8400</td>\n",
       "    </tr>\n",
       "    <tr>\n",
       "      <td>1</td>\n",
       "      <td>sub-009</td>\n",
       "      <td>17</td>\n",
       "      <td>F</td>\n",
       "      <td>59.0</td>\n",
       "      <td>46.7870</td>\n",
       "    </tr>\n",
       "    <tr>\n",
       "      <td>0</td>\n",
       "      <td>sub-010</td>\n",
       "      <td>28</td>\n",
       "      <td>M</td>\n",
       "      <td>23.0</td>\n",
       "      <td>56.4940</td>\n",
       "    </tr>\n",
       "  </tbody>\n",
       "</table>\n",
       "</div>"
      ],
      "text/plain": [
       "  participants_id  age sex  cov_1    cov_2\n",
       "9         sub-001   33   F   19.0  45.1230\n",
       "8         sub-002   15   F   79.0      NaN\n",
       "7         sub-003   32   M    NaN  79.4540\n",
       "6         sub-004   16   M    NaN      NaN\n",
       "5         sub-005   21   F   60.0  23.2940\n",
       "4         sub-006   18   M   20.0      NaN\n",
       "3         sub-007   31   M    NaN  14.4846\n",
       "2         sub-008   19   F   56.0  23.8400\n",
       "1         sub-009   17   F   59.0  46.7870\n",
       "0         sub-010   28   M   23.0  56.4940"
      ]
     },
     "execution_count": 109,
     "metadata": {},
     "output_type": "execute_result"
    }
   ],
   "source": [
    "df"
   ]
  },
  {
   "cell_type": "code",
   "execution_count": 29,
   "metadata": {},
   "outputs": [],
   "source": [
    "def write_design(df,out_file,sep=\" \"):\n",
    "    '''\n",
    "    Writes an output design matrix from an input dataframe. Output\n",
    "    values for floats will be written with three decimal places of\n",
    "    floating point precision.\n",
    "    \n",
    "    Arguments:\n",
    "        df (dataframe): Input dataframe\n",
    "        out_file (file): Output filename\n",
    "        sep (string): Separator\n",
    "    Returns:\n",
    "        out_file (file): Output design\n",
    "    '''\n",
    "    \n",
    "    # Create column list\n",
    "    col_names = list(df.columns)\n",
    "    out_cols = list()\n",
    "    \n",
    "    # Create secondary dataframe without subject ID column\n",
    "    for idx in range(1,len(col_names),1):\n",
    "        out_cols.append(col_names[idx])\n",
    "    \n",
    "    df_out = df[out_cols].copy()\n",
    "    \n",
    "    # df_out.to_csv(out_file,sep=sep,header=False,index=False,na_rep=\"NaN\",float_format='%g')\n",
    "    df_out.to_csv(out_file,sep=sep,header=False,index=False,na_rep=\"NaN\",float_format='%.3f')\n",
    "    \n",
    "    # return out_file, df_out\n",
    "    return out_file"
   ]
  },
  {
   "cell_type": "code",
   "execution_count": 47,
   "metadata": {},
   "outputs": [
    {
     "ename": "NameError",
     "evalue": "name 'df' is not defined",
     "output_type": "error",
     "traceback": [
      "\u001b[1;31m---------------------------------------------------------------------------\u001b[0m",
      "\u001b[1;31mNameError\u001b[0m                                 Traceback (most recent call last)",
      "\u001b[1;32m<ipython-input-47-5d654882bf23>\u001b[0m in \u001b[0;36m<module>\u001b[1;34m\u001b[0m\n\u001b[1;32m----> 1\u001b[1;33m \u001b[0mwrite_design\u001b[0m\u001b[1;33m(\u001b[0m\u001b[0mdf\u001b[0m\u001b[1;33m,\u001b[0m\u001b[1;34m'test.2.txt'\u001b[0m\u001b[1;33m)\u001b[0m\u001b[1;33m\u001b[0m\u001b[1;33m\u001b[0m\u001b[0m\n\u001b[0m",
      "\u001b[1;31mNameError\u001b[0m: name 'df' is not defined"
     ]
    }
   ],
   "source": [
    "write_design(df,'test.2.txt')"
   ]
  },
  {
   "cell_type": "code",
   "execution_count": null,
   "metadata": {},
   "outputs": [],
   "source": []
  },
  {
   "cell_type": "code",
   "execution_count": 36,
   "metadata": {},
   "outputs": [],
   "source": [
    "def mk_design(in_file,prefix,rm_list=\"\",ret_list=\"\",kp_col_list=\"\",demean_ind=\"\",rm_nan=True,sep=\" \"):\n",
    "    '''\n",
    "    Writes output design matrix in addition to inclusion and exclusion lists\n",
    "    for the given input file (which could be a TSV or CSV). The output design\n",
    "    matrix is written without headers, row indices, and subject IDs. The input\n",
    "    file must contain the subject IDs in the first column.\n",
    "    \n",
    "    Arguments:\n",
    "        in_file (file): Input file with header titles, subject IDs, and covariates\n",
    "        prefix (string): Output file prefix.\n",
    "        rm_list (file or string): File or comma separated strings of subjects to remove.\n",
    "        ret_list (file or string): File or comma separated strings of subjects to retain.\n",
    "        kp_col_list (file or string): File or comma separated strings of column indices to retain in design matrix (e.g. \"1,2,3\", index count starts at 0).\n",
    "        demean_ind (file or string): File or comma separated strings of column indices to demean (NOTE: column cannot contain non-numeric values)\n",
    "        rm_nan (boolean): Remove subjects with NaNs in the specified covariates (from kp_col_list) from the design matrix.\n",
    "        sep (string): Separator string to use, valid separators/delimitors include: \",\" and \"\\t\".\n",
    "    Returns:\n",
    "        out_mat (file): Output design matrix\n",
    "        out_rm (file): Subject exclusion file\n",
    "        out_keep (file): Subject inclusion file\n",
    "    '''\n",
    "    \n",
    "    # Create initial dataframe\n",
    "    df_init = mk_df(in_file=in_file)\n",
    "    \n",
    "    # Create input lists from input strings\n",
    "    if len(rm_list) > 1:\n",
    "        rm_list = parse_str_list(string=rm_list)\n",
    "    if len(ret_list) > 1:\n",
    "        ret_list = parse_str_list(string=ret_list)\n",
    "    if len(kp_col_list) > 1:\n",
    "        kp_col_list = parse_str_list(string=kp_col_list)\n",
    "        kp_col_list = [int(i) for i in kp_col_list]\n",
    "    \n",
    "    # Create updated dataframe\n",
    "    df_keep = subs_retain(df=df_init,subs_keep=ret_list)\n",
    "    df_rm = rm_sub(df=df_keep,rm_list=rm_list)\n",
    "    df_cols = keep_columns(df=df_rm,kp_list=kp_col_list,rm_nan=rm_nan)\n",
    "    \n",
    "    # Demean data if required\n",
    "    if len(demean_ind) > 1:\n",
    "        demean_ind = parse_str_list(string=demean_ind)\n",
    "        demean_ind = [int(i) for i in demean_ind]\n",
    "        df_demean = demean_col(df=df_cols,col_indices=demean_ind)\n",
    "        df = df_demean\n",
    "    else:\n",
    "        df = df_cols\n",
    "    \n",
    "    # Update inclusion and exclusion lists\n",
    "    [rm_list, ret_list] = mk_adj_sub_list(df=df,rm_list=rm_list,keep_list=ret_list)\n",
    "    \n",
    "    # Write output files\n",
    "    out_mat = prefix + \".txt\"\n",
    "    out_rm = prefix + \".exclude.txt\"\n",
    "    out_keep = prefix + \".include.txt\"\n",
    "    \n",
    "    out_mat = write_design(df=df,out_file=out_mat,sep=sep)\n",
    "    out_rm = list_to_file(in_list=rm_list,out_file=out_rm)\n",
    "    out_keep = list_to_file(in_list=ret_list,out_file=out_keep)\n",
    "    \n",
    "    return out_mat,out_rm,out_keep"
   ]
  },
  {
   "cell_type": "code",
   "execution_count": null,
   "metadata": {},
   "outputs": [],
   "source": []
  },
  {
   "cell_type": "code",
   "execution_count": 41,
   "metadata": {},
   "outputs": [
    {
     "data": {
      "text/plain": [
       "('test.3.txt', 'test.3.exclude.txt', 'test.3.include.txt')"
      ]
     },
     "execution_count": 41,
     "metadata": {},
     "output_type": "execute_result"
    }
   ],
   "source": [
    "mk_design(in_file=t,prefix=\"test.3\",rm_list='sub-009',kp_col_list=\"\",demean_ind=\"3\",rm_nan=True)"
   ]
  },
  {
   "cell_type": "code",
   "execution_count": 54,
   "metadata": {},
   "outputs": [
    {
     "data": {
      "text/html": [
       "<div>\n",
       "<style scoped>\n",
       "    .dataframe tbody tr th:only-of-type {\n",
       "        vertical-align: middle;\n",
       "    }\n",
       "\n",
       "    .dataframe tbody tr th {\n",
       "        vertical-align: top;\n",
       "    }\n",
       "\n",
       "    .dataframe thead th {\n",
       "        text-align: right;\n",
       "    }\n",
       "</style>\n",
       "<table border=\"1\" class=\"dataframe\">\n",
       "  <thead>\n",
       "    <tr style=\"text-align: right;\">\n",
       "      <th></th>\n",
       "      <th>participants_id</th>\n",
       "      <th>age</th>\n",
       "      <th>sex</th>\n",
       "      <th>cov_1</th>\n",
       "      <th>cov_2</th>\n",
       "    </tr>\n",
       "  </thead>\n",
       "  <tbody>\n",
       "    <tr>\n",
       "      <td>9</td>\n",
       "      <td>sub-001</td>\n",
       "      <td>33</td>\n",
       "      <td>F</td>\n",
       "      <td>19.0</td>\n",
       "      <td>45.1230</td>\n",
       "    </tr>\n",
       "    <tr>\n",
       "      <td>8</td>\n",
       "      <td>sub-002</td>\n",
       "      <td>15</td>\n",
       "      <td>F</td>\n",
       "      <td>79.0</td>\n",
       "      <td>NaN</td>\n",
       "    </tr>\n",
       "    <tr>\n",
       "      <td>7</td>\n",
       "      <td>sub-003</td>\n",
       "      <td>32</td>\n",
       "      <td>M</td>\n",
       "      <td>NaN</td>\n",
       "      <td>79.4540</td>\n",
       "    </tr>\n",
       "    <tr>\n",
       "      <td>6</td>\n",
       "      <td>sub-004</td>\n",
       "      <td>16</td>\n",
       "      <td>M</td>\n",
       "      <td>NaN</td>\n",
       "      <td>NaN</td>\n",
       "    </tr>\n",
       "    <tr>\n",
       "      <td>5</td>\n",
       "      <td>sub-005</td>\n",
       "      <td>21</td>\n",
       "      <td>F</td>\n",
       "      <td>60.0</td>\n",
       "      <td>23.2940</td>\n",
       "    </tr>\n",
       "    <tr>\n",
       "      <td>4</td>\n",
       "      <td>sub-006</td>\n",
       "      <td>18</td>\n",
       "      <td>M</td>\n",
       "      <td>20.0</td>\n",
       "      <td>NaN</td>\n",
       "    </tr>\n",
       "    <tr>\n",
       "      <td>3</td>\n",
       "      <td>sub-007</td>\n",
       "      <td>31</td>\n",
       "      <td>M</td>\n",
       "      <td>NaN</td>\n",
       "      <td>14.4846</td>\n",
       "    </tr>\n",
       "    <tr>\n",
       "      <td>2</td>\n",
       "      <td>sub-008</td>\n",
       "      <td>19</td>\n",
       "      <td>F</td>\n",
       "      <td>56.0</td>\n",
       "      <td>23.8400</td>\n",
       "    </tr>\n",
       "    <tr>\n",
       "      <td>1</td>\n",
       "      <td>sub-009</td>\n",
       "      <td>17</td>\n",
       "      <td>F</td>\n",
       "      <td>59.0</td>\n",
       "      <td>46.7870</td>\n",
       "    </tr>\n",
       "    <tr>\n",
       "      <td>0</td>\n",
       "      <td>sub-010</td>\n",
       "      <td>28</td>\n",
       "      <td>M</td>\n",
       "      <td>23.0</td>\n",
       "      <td>56.4940</td>\n",
       "    </tr>\n",
       "  </tbody>\n",
       "</table>\n",
       "</div>"
      ],
      "text/plain": [
       "  participants_id  age sex  cov_1    cov_2\n",
       "9         sub-001   33   F   19.0  45.1230\n",
       "8         sub-002   15   F   79.0      NaN\n",
       "7         sub-003   32   M    NaN  79.4540\n",
       "6         sub-004   16   M    NaN      NaN\n",
       "5         sub-005   21   F   60.0  23.2940\n",
       "4         sub-006   18   M   20.0      NaN\n",
       "3         sub-007   31   M    NaN  14.4846\n",
       "2         sub-008   19   F   56.0  23.8400\n",
       "1         sub-009   17   F   59.0  46.7870\n",
       "0         sub-010   28   M   23.0  56.4940"
      ]
     },
     "execution_count": 54,
     "metadata": {},
     "output_type": "execute_result"
    }
   ],
   "source": [
    "df = mk_df(t)\n",
    "df"
   ]
  },
  {
   "cell_type": "code",
   "execution_count": 55,
   "metadata": {},
   "outputs": [
    {
     "data": {
      "text/html": [
       "<div>\n",
       "<style scoped>\n",
       "    .dataframe tbody tr th:only-of-type {\n",
       "        vertical-align: middle;\n",
       "    }\n",
       "\n",
       "    .dataframe tbody tr th {\n",
       "        vertical-align: top;\n",
       "    }\n",
       "\n",
       "    .dataframe thead th {\n",
       "        text-align: right;\n",
       "    }\n",
       "</style>\n",
       "<table border=\"1\" class=\"dataframe\">\n",
       "  <thead>\n",
       "    <tr style=\"text-align: right;\">\n",
       "      <th></th>\n",
       "      <th>participants_id</th>\n",
       "      <th>age</th>\n",
       "      <th>sex</th>\n",
       "      <th>cov_1</th>\n",
       "      <th>cov_2</th>\n",
       "    </tr>\n",
       "  </thead>\n",
       "  <tbody>\n",
       "    <tr>\n",
       "      <td>9</td>\n",
       "      <td>sub-001</td>\n",
       "      <td>33</td>\n",
       "      <td>F</td>\n",
       "      <td>19.0</td>\n",
       "      <td>45.1230</td>\n",
       "    </tr>\n",
       "    <tr>\n",
       "      <td>8</td>\n",
       "      <td>sub-002</td>\n",
       "      <td>15</td>\n",
       "      <td>F</td>\n",
       "      <td>79.0</td>\n",
       "      <td>NaN</td>\n",
       "    </tr>\n",
       "    <tr>\n",
       "      <td>7</td>\n",
       "      <td>sub-003</td>\n",
       "      <td>32</td>\n",
       "      <td>M</td>\n",
       "      <td>NaN</td>\n",
       "      <td>79.4540</td>\n",
       "    </tr>\n",
       "    <tr>\n",
       "      <td>6</td>\n",
       "      <td>sub-004</td>\n",
       "      <td>16</td>\n",
       "      <td>M</td>\n",
       "      <td>NaN</td>\n",
       "      <td>NaN</td>\n",
       "    </tr>\n",
       "    <tr>\n",
       "      <td>5</td>\n",
       "      <td>sub-005</td>\n",
       "      <td>21</td>\n",
       "      <td>F</td>\n",
       "      <td>60.0</td>\n",
       "      <td>23.2940</td>\n",
       "    </tr>\n",
       "    <tr>\n",
       "      <td>4</td>\n",
       "      <td>sub-006</td>\n",
       "      <td>18</td>\n",
       "      <td>M</td>\n",
       "      <td>20.0</td>\n",
       "      <td>NaN</td>\n",
       "    </tr>\n",
       "    <tr>\n",
       "      <td>3</td>\n",
       "      <td>sub-007</td>\n",
       "      <td>31</td>\n",
       "      <td>M</td>\n",
       "      <td>NaN</td>\n",
       "      <td>14.4846</td>\n",
       "    </tr>\n",
       "    <tr>\n",
       "      <td>2</td>\n",
       "      <td>sub-008</td>\n",
       "      <td>19</td>\n",
       "      <td>F</td>\n",
       "      <td>56.0</td>\n",
       "      <td>23.8400</td>\n",
       "    </tr>\n",
       "    <tr>\n",
       "      <td>1</td>\n",
       "      <td>sub-009</td>\n",
       "      <td>17</td>\n",
       "      <td>F</td>\n",
       "      <td>59.0</td>\n",
       "      <td>46.7870</td>\n",
       "    </tr>\n",
       "    <tr>\n",
       "      <td>0</td>\n",
       "      <td>sub-010</td>\n",
       "      <td>28</td>\n",
       "      <td>M</td>\n",
       "      <td>23.0</td>\n",
       "      <td>56.4940</td>\n",
       "    </tr>\n",
       "  </tbody>\n",
       "</table>\n",
       "</div>"
      ],
      "text/plain": [
       "  participants_id  age sex  cov_1    cov_2\n",
       "9         sub-001   33   F   19.0  45.1230\n",
       "8         sub-002   15   F   79.0      NaN\n",
       "7         sub-003   32   M    NaN  79.4540\n",
       "6         sub-004   16   M    NaN      NaN\n",
       "5         sub-005   21   F   60.0  23.2940\n",
       "4         sub-006   18   M   20.0      NaN\n",
       "3         sub-007   31   M    NaN  14.4846\n",
       "2         sub-008   19   F   56.0  23.8400\n",
       "1         sub-009   17   F   59.0  46.7870\n",
       "0         sub-010   28   M   23.0  56.4940"
      ]
     },
     "execution_count": 55,
     "metadata": {},
     "output_type": "execute_result"
    }
   ],
   "source": [
    "subs_retain(df)"
   ]
  },
  {
   "cell_type": "code",
   "execution_count": 123,
   "metadata": {},
   "outputs": [
    {
     "data": {
      "text/html": [
       "<div>\n",
       "<style scoped>\n",
       "    .dataframe tbody tr th:only-of-type {\n",
       "        vertical-align: middle;\n",
       "    }\n",
       "\n",
       "    .dataframe tbody tr th {\n",
       "        vertical-align: top;\n",
       "    }\n",
       "\n",
       "    .dataframe thead th {\n",
       "        text-align: right;\n",
       "    }\n",
       "</style>\n",
       "<table border=\"1\" class=\"dataframe\">\n",
       "  <thead>\n",
       "    <tr style=\"text-align: right;\">\n",
       "      <th></th>\n",
       "      <th>participants_id</th>\n",
       "      <th>age</th>\n",
       "      <th>sex</th>\n",
       "      <th>cov_1</th>\n",
       "      <th>cov_2</th>\n",
       "    </tr>\n",
       "  </thead>\n",
       "  <tbody>\n",
       "    <tr>\n",
       "      <td>9</td>\n",
       "      <td>sub-001</td>\n",
       "      <td>33</td>\n",
       "      <td>F</td>\n",
       "      <td>19.0</td>\n",
       "      <td>45.1230</td>\n",
       "    </tr>\n",
       "    <tr>\n",
       "      <td>8</td>\n",
       "      <td>sub-002</td>\n",
       "      <td>15</td>\n",
       "      <td>F</td>\n",
       "      <td>79.0</td>\n",
       "      <td>NaN</td>\n",
       "    </tr>\n",
       "    <tr>\n",
       "      <td>7</td>\n",
       "      <td>sub-003</td>\n",
       "      <td>32</td>\n",
       "      <td>M</td>\n",
       "      <td>NaN</td>\n",
       "      <td>79.4540</td>\n",
       "    </tr>\n",
       "    <tr>\n",
       "      <td>6</td>\n",
       "      <td>sub-004</td>\n",
       "      <td>16</td>\n",
       "      <td>M</td>\n",
       "      <td>NaN</td>\n",
       "      <td>NaN</td>\n",
       "    </tr>\n",
       "    <tr>\n",
       "      <td>5</td>\n",
       "      <td>sub-005</td>\n",
       "      <td>21</td>\n",
       "      <td>F</td>\n",
       "      <td>60.0</td>\n",
       "      <td>23.2940</td>\n",
       "    </tr>\n",
       "    <tr>\n",
       "      <td>4</td>\n",
       "      <td>sub-006</td>\n",
       "      <td>18</td>\n",
       "      <td>M</td>\n",
       "      <td>20.0</td>\n",
       "      <td>NaN</td>\n",
       "    </tr>\n",
       "    <tr>\n",
       "      <td>3</td>\n",
       "      <td>sub-007</td>\n",
       "      <td>31</td>\n",
       "      <td>M</td>\n",
       "      <td>NaN</td>\n",
       "      <td>14.4846</td>\n",
       "    </tr>\n",
       "    <tr>\n",
       "      <td>2</td>\n",
       "      <td>sub-008</td>\n",
       "      <td>19</td>\n",
       "      <td>F</td>\n",
       "      <td>56.0</td>\n",
       "      <td>23.8400</td>\n",
       "    </tr>\n",
       "    <tr>\n",
       "      <td>1</td>\n",
       "      <td>sub-009</td>\n",
       "      <td>17</td>\n",
       "      <td>F</td>\n",
       "      <td>59.0</td>\n",
       "      <td>46.7870</td>\n",
       "    </tr>\n",
       "    <tr>\n",
       "      <td>0</td>\n",
       "      <td>sub-010</td>\n",
       "      <td>28</td>\n",
       "      <td>M</td>\n",
       "      <td>23.0</td>\n",
       "      <td>56.4940</td>\n",
       "    </tr>\n",
       "  </tbody>\n",
       "</table>\n",
       "</div>"
      ],
      "text/plain": [
       "  participants_id  age sex  cov_1    cov_2\n",
       "9         sub-001   33   F   19.0  45.1230\n",
       "8         sub-002   15   F   79.0      NaN\n",
       "7         sub-003   32   M    NaN  79.4540\n",
       "6         sub-004   16   M    NaN      NaN\n",
       "5         sub-005   21   F   60.0  23.2940\n",
       "4         sub-006   18   M   20.0      NaN\n",
       "3         sub-007   31   M    NaN  14.4846\n",
       "2         sub-008   19   F   56.0  23.8400\n",
       "1         sub-009   17   F   59.0  46.7870\n",
       "0         sub-010   28   M   23.0  56.4940"
      ]
     },
     "execution_count": 123,
     "metadata": {},
     "output_type": "execute_result"
    }
   ],
   "source": [
    "df"
   ]
  },
  {
   "cell_type": "code",
   "execution_count": 124,
   "metadata": {},
   "outputs": [],
   "source": [
    "col_i = df['age']"
   ]
  },
  {
   "cell_type": "code",
   "execution_count": 125,
   "metadata": {
    "scrolled": true
   },
   "outputs": [
    {
     "data": {
      "text/plain": [
       "9    33\n",
       "8    15\n",
       "7    32\n",
       "6    16\n",
       "5    21\n",
       "4    18\n",
       "3    31\n",
       "2    19\n",
       "1    17\n",
       "0    28\n",
       "Name: age, dtype: int64"
      ]
     },
     "execution_count": 125,
     "metadata": {},
     "output_type": "execute_result"
    }
   ],
   "source": [
    "col_i"
   ]
  },
  {
   "cell_type": "code",
   "execution_count": 126,
   "metadata": {},
   "outputs": [
    {
     "data": {
      "text/plain": [
       "23.0"
      ]
     },
     "execution_count": 126,
     "metadata": {},
     "output_type": "execute_result"
    }
   ],
   "source": [
    "col_i_mean = col_i.mean()\n",
    "col_i_mean"
   ]
  },
  {
   "cell_type": "code",
   "execution_count": 128,
   "metadata": {},
   "outputs": [
    {
     "data": {
      "text/plain": [
       "9    10.0\n",
       "8    -8.0\n",
       "7     9.0\n",
       "6    -7.0\n",
       "5    -2.0\n",
       "4    -5.0\n",
       "3     8.0\n",
       "2    -4.0\n",
       "1    -6.0\n",
       "0     5.0\n",
       "Name: age, dtype: float64"
      ]
     },
     "execution_count": 128,
     "metadata": {},
     "output_type": "execute_result"
    }
   ],
   "source": [
    "df['age'].sub(col_i_mean)"
   ]
  },
  {
   "cell_type": "code",
   "execution_count": 130,
   "metadata": {},
   "outputs": [],
   "source": [
    "df['age'] = df['age'].sub(col_i_mean)"
   ]
  },
  {
   "cell_type": "code",
   "execution_count": 131,
   "metadata": {},
   "outputs": [
    {
     "data": {
      "text/html": [
       "<div>\n",
       "<style scoped>\n",
       "    .dataframe tbody tr th:only-of-type {\n",
       "        vertical-align: middle;\n",
       "    }\n",
       "\n",
       "    .dataframe tbody tr th {\n",
       "        vertical-align: top;\n",
       "    }\n",
       "\n",
       "    .dataframe thead th {\n",
       "        text-align: right;\n",
       "    }\n",
       "</style>\n",
       "<table border=\"1\" class=\"dataframe\">\n",
       "  <thead>\n",
       "    <tr style=\"text-align: right;\">\n",
       "      <th></th>\n",
       "      <th>participants_id</th>\n",
       "      <th>age</th>\n",
       "      <th>sex</th>\n",
       "      <th>cov_1</th>\n",
       "      <th>cov_2</th>\n",
       "    </tr>\n",
       "  </thead>\n",
       "  <tbody>\n",
       "    <tr>\n",
       "      <td>9</td>\n",
       "      <td>sub-001</td>\n",
       "      <td>10.0</td>\n",
       "      <td>F</td>\n",
       "      <td>19.0</td>\n",
       "      <td>45.1230</td>\n",
       "    </tr>\n",
       "    <tr>\n",
       "      <td>8</td>\n",
       "      <td>sub-002</td>\n",
       "      <td>-8.0</td>\n",
       "      <td>F</td>\n",
       "      <td>79.0</td>\n",
       "      <td>NaN</td>\n",
       "    </tr>\n",
       "    <tr>\n",
       "      <td>7</td>\n",
       "      <td>sub-003</td>\n",
       "      <td>9.0</td>\n",
       "      <td>M</td>\n",
       "      <td>NaN</td>\n",
       "      <td>79.4540</td>\n",
       "    </tr>\n",
       "    <tr>\n",
       "      <td>6</td>\n",
       "      <td>sub-004</td>\n",
       "      <td>-7.0</td>\n",
       "      <td>M</td>\n",
       "      <td>NaN</td>\n",
       "      <td>NaN</td>\n",
       "    </tr>\n",
       "    <tr>\n",
       "      <td>5</td>\n",
       "      <td>sub-005</td>\n",
       "      <td>-2.0</td>\n",
       "      <td>F</td>\n",
       "      <td>60.0</td>\n",
       "      <td>23.2940</td>\n",
       "    </tr>\n",
       "    <tr>\n",
       "      <td>4</td>\n",
       "      <td>sub-006</td>\n",
       "      <td>-5.0</td>\n",
       "      <td>M</td>\n",
       "      <td>20.0</td>\n",
       "      <td>NaN</td>\n",
       "    </tr>\n",
       "    <tr>\n",
       "      <td>3</td>\n",
       "      <td>sub-007</td>\n",
       "      <td>8.0</td>\n",
       "      <td>M</td>\n",
       "      <td>NaN</td>\n",
       "      <td>14.4846</td>\n",
       "    </tr>\n",
       "    <tr>\n",
       "      <td>2</td>\n",
       "      <td>sub-008</td>\n",
       "      <td>-4.0</td>\n",
       "      <td>F</td>\n",
       "      <td>56.0</td>\n",
       "      <td>23.8400</td>\n",
       "    </tr>\n",
       "    <tr>\n",
       "      <td>1</td>\n",
       "      <td>sub-009</td>\n",
       "      <td>-6.0</td>\n",
       "      <td>F</td>\n",
       "      <td>59.0</td>\n",
       "      <td>46.7870</td>\n",
       "    </tr>\n",
       "    <tr>\n",
       "      <td>0</td>\n",
       "      <td>sub-010</td>\n",
       "      <td>5.0</td>\n",
       "      <td>M</td>\n",
       "      <td>23.0</td>\n",
       "      <td>56.4940</td>\n",
       "    </tr>\n",
       "  </tbody>\n",
       "</table>\n",
       "</div>"
      ],
      "text/plain": [
       "  participants_id   age sex  cov_1    cov_2\n",
       "9         sub-001  10.0   F   19.0  45.1230\n",
       "8         sub-002  -8.0   F   79.0      NaN\n",
       "7         sub-003   9.0   M    NaN  79.4540\n",
       "6         sub-004  -7.0   M    NaN      NaN\n",
       "5         sub-005  -2.0   F   60.0  23.2940\n",
       "4         sub-006  -5.0   M   20.0      NaN\n",
       "3         sub-007   8.0   M    NaN  14.4846\n",
       "2         sub-008  -4.0   F   56.0  23.8400\n",
       "1         sub-009  -6.0   F   59.0  46.7870\n",
       "0         sub-010   5.0   M   23.0  56.4940"
      ]
     },
     "execution_count": 131,
     "metadata": {},
     "output_type": "execute_result"
    }
   ],
   "source": [
    "df"
   ]
  },
  {
   "cell_type": "code",
   "execution_count": 11,
   "metadata": {},
   "outputs": [],
   "source": [
    "def demean_col(df,col_indices=[]):\n",
    "    '''\n",
    "    Demeans column indices of a dataframe. NOTE: The column or columns\n",
    "    can only contain numeric values. Non-numeric values will cause\n",
    "    errors, and exceptions to be thrown.\n",
    "    \n",
    "    Arguments\n",
    "        df (dataframe): Input dataframe\n",
    "        col_indices (list): List of column numerical indices to demean\n",
    "    Returns\n",
    "        df_demean (dataframe): Output dataframe with demeaned columns from the input list\n",
    "    '''\n",
    "    \n",
    "    # Create column list\n",
    "    col_names = list(df.columns)\n",
    "    \n",
    "    # Copy dataframe\n",
    "    df_demean = df.copy()\n",
    "    \n",
    "    for i in col_indices:\n",
    "        df_demean[col_names[i]] = df_demean[col_names[i]].sub(df_demean[col_names[i]].mean())\n",
    "        \n",
    "    return df_demean"
   ]
  },
  {
   "cell_type": "code",
   "execution_count": null,
   "metadata": {},
   "outputs": [],
   "source": []
  },
  {
   "cell_type": "code",
   "execution_count": 15,
   "metadata": {
    "scrolled": true
   },
   "outputs": [
    {
     "data": {
      "text/html": [
       "<div>\n",
       "<style scoped>\n",
       "    .dataframe tbody tr th:only-of-type {\n",
       "        vertical-align: middle;\n",
       "    }\n",
       "\n",
       "    .dataframe tbody tr th {\n",
       "        vertical-align: top;\n",
       "    }\n",
       "\n",
       "    .dataframe thead th {\n",
       "        text-align: right;\n",
       "    }\n",
       "</style>\n",
       "<table border=\"1\" class=\"dataframe\">\n",
       "  <thead>\n",
       "    <tr style=\"text-align: right;\">\n",
       "      <th></th>\n",
       "      <th>participants_id</th>\n",
       "      <th>age</th>\n",
       "      <th>sex</th>\n",
       "      <th>cov_1</th>\n",
       "      <th>cov_2</th>\n",
       "    </tr>\n",
       "  </thead>\n",
       "  <tbody>\n",
       "    <tr>\n",
       "      <td>9</td>\n",
       "      <td>sub-001</td>\n",
       "      <td>10.0</td>\n",
       "      <td>F</td>\n",
       "      <td>19.0</td>\n",
       "      <td>45.1230</td>\n",
       "    </tr>\n",
       "    <tr>\n",
       "      <td>8</td>\n",
       "      <td>sub-002</td>\n",
       "      <td>-8.0</td>\n",
       "      <td>F</td>\n",
       "      <td>79.0</td>\n",
       "      <td>NaN</td>\n",
       "    </tr>\n",
       "    <tr>\n",
       "      <td>7</td>\n",
       "      <td>sub-003</td>\n",
       "      <td>9.0</td>\n",
       "      <td>M</td>\n",
       "      <td>NaN</td>\n",
       "      <td>79.4540</td>\n",
       "    </tr>\n",
       "    <tr>\n",
       "      <td>6</td>\n",
       "      <td>sub-004</td>\n",
       "      <td>-7.0</td>\n",
       "      <td>M</td>\n",
       "      <td>NaN</td>\n",
       "      <td>NaN</td>\n",
       "    </tr>\n",
       "    <tr>\n",
       "      <td>5</td>\n",
       "      <td>sub-005</td>\n",
       "      <td>-2.0</td>\n",
       "      <td>F</td>\n",
       "      <td>60.0</td>\n",
       "      <td>23.2940</td>\n",
       "    </tr>\n",
       "    <tr>\n",
       "      <td>4</td>\n",
       "      <td>sub-006</td>\n",
       "      <td>-5.0</td>\n",
       "      <td>M</td>\n",
       "      <td>20.0</td>\n",
       "      <td>NaN</td>\n",
       "    </tr>\n",
       "    <tr>\n",
       "      <td>3</td>\n",
       "      <td>sub-007</td>\n",
       "      <td>8.0</td>\n",
       "      <td>M</td>\n",
       "      <td>NaN</td>\n",
       "      <td>14.4846</td>\n",
       "    </tr>\n",
       "    <tr>\n",
       "      <td>2</td>\n",
       "      <td>sub-008</td>\n",
       "      <td>-4.0</td>\n",
       "      <td>F</td>\n",
       "      <td>56.0</td>\n",
       "      <td>23.8400</td>\n",
       "    </tr>\n",
       "    <tr>\n",
       "      <td>1</td>\n",
       "      <td>sub-009</td>\n",
       "      <td>-6.0</td>\n",
       "      <td>F</td>\n",
       "      <td>59.0</td>\n",
       "      <td>46.7870</td>\n",
       "    </tr>\n",
       "    <tr>\n",
       "      <td>0</td>\n",
       "      <td>sub-010</td>\n",
       "      <td>5.0</td>\n",
       "      <td>M</td>\n",
       "      <td>23.0</td>\n",
       "      <td>56.4940</td>\n",
       "    </tr>\n",
       "  </tbody>\n",
       "</table>\n",
       "</div>"
      ],
      "text/plain": [
       "  participants_id   age sex  cov_1    cov_2\n",
       "9         sub-001  10.0   F   19.0  45.1230\n",
       "8         sub-002  -8.0   F   79.0      NaN\n",
       "7         sub-003   9.0   M    NaN  79.4540\n",
       "6         sub-004  -7.0   M    NaN      NaN\n",
       "5         sub-005  -2.0   F   60.0  23.2940\n",
       "4         sub-006  -5.0   M   20.0      NaN\n",
       "3         sub-007   8.0   M    NaN  14.4846\n",
       "2         sub-008  -4.0   F   56.0  23.8400\n",
       "1         sub-009  -6.0   F   59.0  46.7870\n",
       "0         sub-010   5.0   M   23.0  56.4940"
      ]
     },
     "execution_count": 15,
     "metadata": {},
     "output_type": "execute_result"
    }
   ],
   "source": [
    "d = demean_col(df,col_indices=[1])\n",
    "d"
   ]
  },
  {
   "cell_type": "code",
   "execution_count": 142,
   "metadata": {},
   "outputs": [],
   "source": [
    "col_indices=[1]"
   ]
  },
  {
   "cell_type": "code",
   "execution_count": 145,
   "metadata": {},
   "outputs": [],
   "source": [
    "# Create column list\n",
    "col_names = list(df.columns)"
   ]
  },
  {
   "cell_type": "code",
   "execution_count": 144,
   "metadata": {},
   "outputs": [],
   "source": [
    "# Copy dataframe\n",
    "df_demean = df.copy()"
   ]
  },
  {
   "cell_type": "code",
   "execution_count": 156,
   "metadata": {},
   "outputs": [],
   "source": [
    "i = 1"
   ]
  },
  {
   "cell_type": "code",
   "execution_count": 158,
   "metadata": {
    "scrolled": true
   },
   "outputs": [
    {
     "data": {
      "text/plain": [
       "9    33\n",
       "8    15\n",
       "7    32\n",
       "6    16\n",
       "5    21\n",
       "4    18\n",
       "3    31\n",
       "2    19\n",
       "1    17\n",
       "0    28\n",
       "Name: age, dtype: int64"
      ]
     },
     "execution_count": 158,
     "metadata": {},
     "output_type": "execute_result"
    }
   ],
   "source": [
    "df_demean[col_names[i]]"
   ]
  },
  {
   "cell_type": "code",
   "execution_count": 164,
   "metadata": {},
   "outputs": [],
   "source": [
    "df_demean[col_names[i]] = df_demean[col_names[i]].sub(df_demean[col_names[i]].mean())"
   ]
  },
  {
   "cell_type": "code",
   "execution_count": 165,
   "metadata": {},
   "outputs": [
    {
     "data": {
      "text/html": [
       "<div>\n",
       "<style scoped>\n",
       "    .dataframe tbody tr th:only-of-type {\n",
       "        vertical-align: middle;\n",
       "    }\n",
       "\n",
       "    .dataframe tbody tr th {\n",
       "        vertical-align: top;\n",
       "    }\n",
       "\n",
       "    .dataframe thead th {\n",
       "        text-align: right;\n",
       "    }\n",
       "</style>\n",
       "<table border=\"1\" class=\"dataframe\">\n",
       "  <thead>\n",
       "    <tr style=\"text-align: right;\">\n",
       "      <th></th>\n",
       "      <th>participants_id</th>\n",
       "      <th>age</th>\n",
       "      <th>sex</th>\n",
       "      <th>cov_1</th>\n",
       "      <th>cov_2</th>\n",
       "    </tr>\n",
       "  </thead>\n",
       "  <tbody>\n",
       "    <tr>\n",
       "      <td>9</td>\n",
       "      <td>sub-001</td>\n",
       "      <td>10.0</td>\n",
       "      <td>F</td>\n",
       "      <td>19.0</td>\n",
       "      <td>45.1230</td>\n",
       "    </tr>\n",
       "    <tr>\n",
       "      <td>8</td>\n",
       "      <td>sub-002</td>\n",
       "      <td>-8.0</td>\n",
       "      <td>F</td>\n",
       "      <td>79.0</td>\n",
       "      <td>NaN</td>\n",
       "    </tr>\n",
       "    <tr>\n",
       "      <td>7</td>\n",
       "      <td>sub-003</td>\n",
       "      <td>9.0</td>\n",
       "      <td>M</td>\n",
       "      <td>NaN</td>\n",
       "      <td>79.4540</td>\n",
       "    </tr>\n",
       "    <tr>\n",
       "      <td>6</td>\n",
       "      <td>sub-004</td>\n",
       "      <td>-7.0</td>\n",
       "      <td>M</td>\n",
       "      <td>NaN</td>\n",
       "      <td>NaN</td>\n",
       "    </tr>\n",
       "    <tr>\n",
       "      <td>5</td>\n",
       "      <td>sub-005</td>\n",
       "      <td>-2.0</td>\n",
       "      <td>F</td>\n",
       "      <td>60.0</td>\n",
       "      <td>23.2940</td>\n",
       "    </tr>\n",
       "    <tr>\n",
       "      <td>4</td>\n",
       "      <td>sub-006</td>\n",
       "      <td>-5.0</td>\n",
       "      <td>M</td>\n",
       "      <td>20.0</td>\n",
       "      <td>NaN</td>\n",
       "    </tr>\n",
       "    <tr>\n",
       "      <td>3</td>\n",
       "      <td>sub-007</td>\n",
       "      <td>8.0</td>\n",
       "      <td>M</td>\n",
       "      <td>NaN</td>\n",
       "      <td>14.4846</td>\n",
       "    </tr>\n",
       "    <tr>\n",
       "      <td>2</td>\n",
       "      <td>sub-008</td>\n",
       "      <td>-4.0</td>\n",
       "      <td>F</td>\n",
       "      <td>56.0</td>\n",
       "      <td>23.8400</td>\n",
       "    </tr>\n",
       "    <tr>\n",
       "      <td>1</td>\n",
       "      <td>sub-009</td>\n",
       "      <td>-6.0</td>\n",
       "      <td>F</td>\n",
       "      <td>59.0</td>\n",
       "      <td>46.7870</td>\n",
       "    </tr>\n",
       "    <tr>\n",
       "      <td>0</td>\n",
       "      <td>sub-010</td>\n",
       "      <td>5.0</td>\n",
       "      <td>M</td>\n",
       "      <td>23.0</td>\n",
       "      <td>56.4940</td>\n",
       "    </tr>\n",
       "  </tbody>\n",
       "</table>\n",
       "</div>"
      ],
      "text/plain": [
       "  participants_id   age sex  cov_1    cov_2\n",
       "9         sub-001  10.0   F   19.0  45.1230\n",
       "8         sub-002  -8.0   F   79.0      NaN\n",
       "7         sub-003   9.0   M    NaN  79.4540\n",
       "6         sub-004  -7.0   M    NaN      NaN\n",
       "5         sub-005  -2.0   F   60.0  23.2940\n",
       "4         sub-006  -5.0   M   20.0      NaN\n",
       "3         sub-007   8.0   M    NaN  14.4846\n",
       "2         sub-008  -4.0   F   56.0  23.8400\n",
       "1         sub-009  -6.0   F   59.0  46.7870\n",
       "0         sub-010   5.0   M   23.0  56.4940"
      ]
     },
     "execution_count": 165,
     "metadata": {},
     "output_type": "execute_result"
    }
   ],
   "source": [
    "df_demean"
   ]
  },
  {
   "cell_type": "code",
   "execution_count": 12,
   "metadata": {},
   "outputs": [],
   "source": [
    "demean_ind = \"1\"\n",
    "demean_ind = parse_str_list(string=demean_ind)"
   ]
  },
  {
   "cell_type": "code",
   "execution_count": 14,
   "metadata": {},
   "outputs": [
    {
     "data": {
      "text/plain": [
       "[1]"
      ]
     },
     "execution_count": 14,
     "metadata": {},
     "output_type": "execute_result"
    }
   ],
   "source": [
    "demean_ind = [int(i) for i in demean_ind]\n",
    "demean_ind"
   ]
  },
  {
   "cell_type": "code",
   "execution_count": null,
   "metadata": {},
   "outputs": [],
   "source": []
  }
 ],
 "metadata": {
  "kernelspec": {
   "display_name": "Python 3",
   "language": "python",
   "name": "python3"
  },
  "language_info": {
   "codemirror_mode": {
    "name": "ipython",
    "version": 3
   },
   "file_extension": ".py",
   "mimetype": "text/x-python",
   "name": "python",
   "nbconvert_exporter": "python",
   "pygments_lexer": "ipython3",
   "version": "3.6.8"
  }
 },
 "nbformat": 4,
 "nbformat_minor": 2
}
