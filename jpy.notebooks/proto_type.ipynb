{
 "cells": [
  {
   "cell_type": "code",
   "execution_count": 1,
   "metadata": {},
   "outputs": [],
   "source": [
    "# Import packages/modules\n",
    "import pandas as pd\n",
    "import os"
   ]
  },
  {
   "cell_type": "code",
   "execution_count": 2,
   "metadata": {},
   "outputs": [],
   "source": [
    "def find_delim(in_file, verbose=False):\n",
    "    '''\n",
    "    Inspects input file or string for some known delimiter (e.g. ',','\\t' etc.)\n",
    "    and returns the returns the delimiter used to separate enteries in the\n",
    "    input file or string.\n",
    "\n",
    "    Arguments:\n",
    "        in_file (file or string): Input file or string. If the input file does not exist, it is assumed to be a string.\n",
    "        verbose (boolean): Enable verbose output\n",
    "    Returns:\n",
    "        delim (string): The delmiter used in the input file or string.\n",
    "    '''\n",
    "\n",
    "    if os.path.exists(in_file):\n",
    "        with open(in_file, 'r') as file:\n",
    "            lines = file.readlines()\n",
    "\n",
    "            if '.tsv' in in_file:\n",
    "                delim = \"\\t\"\n",
    "                if verbose:\n",
    "                    print(\"Input file is a tsv\")\n",
    "            elif '.csv' in in_file:\n",
    "                delim = \",\"\n",
    "                if verbose:\n",
    "                    print(\"Input file is a csv\")\n",
    "            elif ',' in lines[0]:\n",
    "                delim = \",\"\n",
    "                if verbose:\n",
    "                    print(\"Input file is a csv\")\n",
    "            elif '\\t' in lines[0]:\n",
    "                delim = \"\\t\"\n",
    "                if verbose:\n",
    "                    print(\"Input file is a tsv\")\n",
    "            elif '\\n' in lines[0]:\n",
    "                delim = \"\\n\"\n",
    "                if verbose:\n",
    "                    print(\"Input file uses newline separators exclusively\")\n",
    "            else:\n",
    "                delim = \" \"\n",
    "                # print(\"Unrecognized delimiter from input file\")\n",
    "\n",
    "            file.close()\n",
    "    else:\n",
    "        if \",\" in in_file:\n",
    "            delim = \",\"\n",
    "        elif \"\\t\" in in_file:\n",
    "            delim = \"\\t\"\n",
    "        elif \":\" in in_file:\n",
    "            delim = \":\"\n",
    "        elif \";\" in in_file:\n",
    "            delim = \";\"\n",
    "        else:\n",
    "            delim = \" \"\n",
    "            # print(\"Unrecognized delimiter from input string\")\n",
    "\n",
    "    return delim"
   ]
  },
  {
   "cell_type": "code",
   "execution_count": 3,
   "metadata": {},
   "outputs": [],
   "source": [
    "def mk_df(in_file, verbose=False):\n",
    "    '''\n",
    "    Creates a (pandas) dataframe from an input file.\n",
    "\n",
    "    Arguments:\n",
    "        in_file (file): Input file.\n",
    "        verbose (boolean): Enable verbose output\n",
    "    Returns:\n",
    "        df (dataframe): Output dataframe\n",
    "    '''\n",
    "\n",
    "    delim = find_delim(in_file=in_file, verbose=verbose)\n",
    "    df = pd.read_csv(in_file, sep=delim)\n",
    "\n",
    "    col_names = list(df.columns)\n",
    "    df.sort_values(by=col_names[0], axis=0, inplace=True, ascending=True, kind='quicksort')\n",
    "\n",
    "    return df\n",
    "\n",
    "\n",
    "def rm_sub(df, rm_list):\n",
    "    '''\n",
    "    Removes a list of subjects from some dataframe.\n",
    "\n",
    "    Arguments:\n",
    "        df (dataframe): Input dataframe.\n",
    "        rm_list (list): List of subjects to remove from dataframe\n",
    "    Returns:\n",
    "        df_rm (dataframe): Output dataframe with subjects in list removed\n",
    "    '''\n",
    "\n",
    "    col_names = list(df.columns)\n",
    "    df_rm = df.copy()\n",
    "\n",
    "    if len(rm_list) != 0:\n",
    "        for r in rm_list:\n",
    "            df_rm.drop(df_rm[df_rm[col_names[0]] == r].index, inplace=True)\n",
    "\n",
    "    return df_rm"
   ]
  },
  {
   "cell_type": "code",
   "execution_count": 4,
   "metadata": {},
   "outputs": [],
   "source": [
    "def keep_columns(df, kp_list=[], rm_nan=True):\n",
    "    '''\n",
    "    Creates an output dataframe that contains only the specified column\n",
    "    indices (e.g. numerical index starting at 0 and not the column names).\n",
    "    The output dataframe will also drop subjects that contain NaNs for all\n",
    "    covariates of interest.\n",
    "\n",
    "    Arguments:\n",
    "        df (dataframe): Input dataframe.\n",
    "        kp_list (list): List of df column name indices to be kept. The indices should follow that of the input TSV or CSV file.\n",
    "        rm_nan (boolean): Drops subjects that contain NaNs\n",
    "    Returns:\n",
    "        df_2 (dataframe): Output dataframe with only the selected columns remaining.\n",
    "    '''\n",
    "\n",
    "    # Create column list\n",
    "    col_names = list(df.columns)\n",
    "\n",
    "    # Init keep-cols list\n",
    "    kp_cols = list()\n",
    "    kp_cols.insert(0, col_names[0])\n",
    "\n",
    "    # Check for empty input list\n",
    "    if len(kp_list) == 0:\n",
    "        kp_list = range(1, len(col_names), 1)\n",
    "\n",
    "    # Create list of columns to keep\n",
    "    for idx in kp_list:\n",
    "        kp_cols.append(col_names[idx])\n",
    "\n",
    "    # Create new dataframe\n",
    "    df_2 = df[kp_cols].copy()\n",
    "\n",
    "    # Exclude subjects with NaNs\n",
    "    if rm_nan:\n",
    "        df_2.dropna(subset=kp_cols, inplace=True)\n",
    "\n",
    "    return df_2"
   ]
  },
  {
   "cell_type": "code",
   "execution_count": 5,
   "metadata": {},
   "outputs": [],
   "source": [
    "def subs_retain(df, subs_keep=[]):\n",
    "    '''\n",
    "    Creates a copy of dataframe that only includes a list of subjects.\n",
    "\n",
    "    Arguments:\n",
    "        df (dataframe): Input dataframe.\n",
    "        subs_keep (list): List of subjects to create the dataframe from\n",
    "    Returns:\n",
    "        df_keep (dataframe): Output dataframe with subjects in list\n",
    "    '''\n",
    "\n",
    "    col_names = list(df.columns)\n",
    "    df_keep = pd.DataFrame({col_names[0]: []})\n",
    "\n",
    "    if len(subs_keep) != 0:\n",
    "        for sub in subs_keep:\n",
    "            df_keep = df_keep.append(df.loc[df[col_names[0]] == sub], sort=True)\n",
    "    else:\n",
    "        df_keep = df\n",
    "\n",
    "    return df_keep"
   ]
  },
  {
   "cell_type": "code",
   "execution_count": 36,
   "metadata": {},
   "outputs": [],
   "source": [
    "def mk_adj_sub_list(df_all,df_subs,rm_list=[]):\n",
    "    '''\n",
    "    Creates an adjusted subject inclusion (keep_list) and exclusion (rm_list)\n",
    "    lists using some input dataframe. The input rm_list is updated to\n",
    "    reflect subjects removed from the design matrix as a result of\n",
    "    manual exclusion or missing data.\n",
    "\n",
    "    Arguments:\n",
    "        df_all (dataframe): Input dataframe of all subjects.\n",
    "        df_subs (dataframe): Input dataframe.\n",
    "    Returns:\n",
    "        rm_list_adj (list): Adjusted rm_list that lists all excluded subjects.\n",
    "        keep_list_adj (list): Adjusted keep_list that list all the included subjects.\n",
    "    '''\n",
    "    \n",
    "    # Create list of column names\n",
    "    col_names = list(df_all.columns)\n",
    "    \n",
    "    # Create list from input dataframes subject IDs\n",
    "    all_subs = df_all[col_names[0]].to_list()\n",
    "    keep_subs = df_subs[col_names[0]].to_list()\n",
    "    \n",
    "    # Create sets from lists\n",
    "    all_subs_set = set(all_subs)\n",
    "    subs_keep_set = set(keep_subs)\n",
    "    \n",
    "    # Create removed subject list set\n",
    "    rm_list_set = all_subs_set.difference(subs_keep_set)\n",
    "\n",
    "    # Create updated/adjusted lists\n",
    "    rm_list_adj = list(rm_list_set)\n",
    "    rm_list_adj.extend(rm_list)\n",
    "    keep_list_adj = list(subs_keep_set)\n",
    "    \n",
    "    # Sort lists\n",
    "    rm_list_adj.sort()\n",
    "    keep_list_adj.sort()\n",
    "\n",
    "    return rm_list_adj, keep_list_adj"
   ]
  },
  {
   "cell_type": "code",
   "execution_count": 7,
   "metadata": {},
   "outputs": [],
   "source": [
    "def list_to_file(in_list, out_file):\n",
    "    '''\n",
    "    Writes some input list to some file.\n",
    "\n",
    "    Arguments:\n",
    "        in_list (list): List of subjects.\n",
    "        out_file (file): Output filename.\n",
    "    Returns:\n",
    "        out_file (file): Output file.\n",
    "    '''\n",
    "\n",
    "    # Write list to file\n",
    "    with open(out_file, \"w\") as f:\n",
    "        for sub in in_list:\n",
    "            f.write(\"%s\\n\" % sub)\n",
    "        f.close()\n",
    "\n",
    "    return out_file\n",
    "\n",
    "\n",
    "def file_to_list(file):\n",
    "    '''\n",
    "    Reads a file into a list, assuming the file is separated by newline\n",
    "    characters.\n",
    "\n",
    "    Arguments:\n",
    "        file (file): Input file to be read.\n",
    "    Returns:\n",
    "        lines (list): List from input file.\n",
    "    '''\n",
    "\n",
    "    # Read file into list\n",
    "    with open(file, \"r\") as f:\n",
    "        lines = f.read().splitlines()\n",
    "        f.close()\n",
    "\n",
    "    lines.sort()\n",
    "\n",
    "    return lines"
   ]
  },
  {
   "cell_type": "code",
   "execution_count": 8,
   "metadata": {},
   "outputs": [],
   "source": [
    "def parse_str_list(string):\n",
    "    '''\n",
    "    Parses a file or string into a list.\n",
    "\n",
    "    Arguments:\n",
    "        string (file or string): Input file or string to be read.\n",
    "    Returns:\n",
    "        sub_list (list): List of subjects from file or string.\n",
    "    '''\n",
    "\n",
    "    delim = find_delim(in_file=string)\n",
    "    in_list = string.split(sep=delim)\n",
    "    in_list.sort()\n",
    "\n",
    "    if len(in_list) == 1:\n",
    "        if os.path.exists(string):\n",
    "            sub_list = file_to_list(file=string)\n",
    "        else:\n",
    "            sub_list = in_list\n",
    "    elif len(in_list) > 1:\n",
    "        sub_list = in_list\n",
    "\n",
    "    return sub_list"
   ]
  },
  {
   "cell_type": "code",
   "execution_count": 9,
   "metadata": {},
   "outputs": [],
   "source": [
    "def write_design(df, out_file, sep=\" \"):\n",
    "    '''\n",
    "    Writes an output design matrix from an input dataframe. Output\n",
    "    values for floats will be written with three decimal places of\n",
    "    floating point precision.\n",
    "\n",
    "    Arguments:\n",
    "        df (dataframe): Input dataframe\n",
    "        out_file (file): Output filename\n",
    "        sep (string): Separator, delimiter in file\n",
    "    Returns:\n",
    "        out_file (file): Output design\n",
    "    '''\n",
    "\n",
    "    # Create column list\n",
    "    col_names = list(df.columns)\n",
    "    out_cols = list()\n",
    "\n",
    "    # Create secondary dataframe without subject ID column\n",
    "    for idx in range(1, len(col_names), 1):\n",
    "        out_cols.append(col_names[idx])\n",
    "\n",
    "    df_out = df[out_cols].copy()\n",
    "\n",
    "    # df_out.to_csv(out_file,sep=sep,header=False,index=False,na_rep=\"NaN\",float_format='%g')\n",
    "    df_out.to_csv(out_file, sep=sep, header=False, index=False, na_rep=\"NaN\", float_format='%.3f')\n",
    "\n",
    "    # return out_file, df_out\n",
    "    return out_file"
   ]
  },
  {
   "cell_type": "code",
   "execution_count": 10,
   "metadata": {},
   "outputs": [],
   "source": [
    "def demean_col(df, col_indices=[]):\n",
    "    '''\n",
    "    Demeans column indices of a dataframe. NOTE: The column or columns\n",
    "    can only contain numeric values. Non-numeric values will cause\n",
    "    errors, and exceptions to be thrown.\n",
    "\n",
    "    Arguments\n",
    "        df (dataframe): Input dataframe\n",
    "        col_indices (list): List of column numerical indices to demean\n",
    "    Returns\n",
    "        df_demean (dataframe): Output dataframe with demeaned columns from the input list\n",
    "    '''\n",
    "\n",
    "    # Create column list\n",
    "    col_names = list(df.columns)\n",
    "\n",
    "    # Copy dataframe\n",
    "    df_demean = df.copy()\n",
    "\n",
    "    for i in col_indices:\n",
    "        df_demean[col_names[i]] = df_demean[col_names[i]].sub(df_demean[col_names[i]].mean())\n",
    "\n",
    "    return df_demean"
   ]
  },
  {
   "cell_type": "code",
   "execution_count": 37,
   "metadata": {},
   "outputs": [],
   "source": [
    "def mk_design(in_file, prefix, rm_list=\"\", ret_list=\"\", kp_col_list=\"\", demean_ind=\"\", rm_nan=True, sep=\" \"):\n",
    "    '''\n",
    "    Writes output design matrix in addition to inclusion and exclusion lists\n",
    "    for the given input file (which could be a TSV or CSV). The output design\n",
    "    matrix is written without headers, row indices, and subject IDs. The input\n",
    "    file must contain the subject IDs in the first column.\n",
    "\n",
    "    Arguments:\n",
    "        in_file (file): Input file with header titles, subject IDs, and covariates\n",
    "        prefix (string): Output file prefix.\n",
    "        rm_list (file or string): File or comma separated strings of subjects to remove.\n",
    "        ret_list (file or string): File or comma separated strings of subjects to retain.\n",
    "        kp_col_list (file or string): File or comma separated strings of column indices to retain in design matrix (e.g. \"1,2,3\", index count starts at 0).\n",
    "        demean_ind (file or string): File or comma separated strings of column indices to demean (NOTE: column cannot contain non-numeric values)\n",
    "        rm_nan (boolean): Remove subjects with NaNs in the specified covariates (from kp_col_list) from the design matrix.\n",
    "        sep (string): Separator string to use, valid separators/delimitors include: \",\" and \"\\t\".\n",
    "    Returns:\n",
    "        out_mat (file): Output design matrix\n",
    "        out_rm (file): Subject exclusion file\n",
    "        out_keep (file): Subject inclusion file\n",
    "    '''\n",
    "\n",
    "    # Create initial dataframe\n",
    "    df_init = mk_df(in_file=in_file)\n",
    "\n",
    "    # Create input lists from input strings,\n",
    "    # use list comprehension to convert strings to integers\n",
    "    if len(rm_list) > 0:\n",
    "        rm_list = parse_str_list(string=rm_list)\n",
    "        rm_list = [int(i) for i in rm_list]\n",
    "    if len(ret_list) > 0:\n",
    "        ret_list = parse_str_list(string=ret_list)\n",
    "        ret_list = [int(i) for i in ret_list]\n",
    "    if len(kp_col_list) > 0:\n",
    "        kp_col_list = parse_str_list(string=kp_col_list)\n",
    "        kp_col_list = [int(i) for i in kp_col_list]\n",
    "\n",
    "    # Create updated dataframe\n",
    "    df_keep = subs_retain(df=df_init, subs_keep=ret_list)\n",
    "    df_rm = rm_sub(df=df_keep, rm_list=rm_list)\n",
    "    df_cols = keep_columns(df=df_rm, kp_list=kp_col_list, rm_nan=rm_nan)\n",
    "\n",
    "    # Demean data if required (does not work as expected)\n",
    "    if len(demean_ind) > 0:\n",
    "        demean_ind = parse_str_list(string=demean_ind)\n",
    "        demean_ind = [int(i) for i in demean_ind]\n",
    "        df_demean = demean_col(df=df_cols, col_indices=demean_ind)\n",
    "        df = df_demean\n",
    "    else:\n",
    "        df = df_cols\n",
    "\n",
    "    # Update inclusion and exclusion lists\n",
    "    [rm_list, ret_list] = mk_adj_sub_list(df_all=df_init,df_subs=df,rm_list=rm_list)\n",
    "\n",
    "    # Write output files\n",
    "    out_mat = prefix + \".txt\"\n",
    "    out_rm = prefix + \".exclude.txt\"\n",
    "    out_keep = prefix + \".include.txt\"\n",
    "\n",
    "    out_mat = write_design(df=df, out_file=out_mat, sep=sep)\n",
    "    out_rm = list_to_file(in_list=rm_list, out_file=out_rm)\n",
    "    out_keep = list_to_file(in_list=ret_list, out_file=out_keep)\n",
    "\n",
    "    # Print out complete design with header information\n",
    "    df.to_csv(prefix + \".all_info.txt\", sep=sep, header=True, index=False, na_rep=\"NaN\", float_format='%.3f')\n",
    "\n",
    "    return out_mat, out_rm, out_keep"
   ]
  },
  {
   "cell_type": "code",
   "execution_count": 12,
   "metadata": {},
   "outputs": [],
   "source": [
    "file = 'test.mats\\design.master.SCT.csv'"
   ]
  },
  {
   "cell_type": "code",
   "execution_count": 13,
   "metadata": {},
   "outputs": [],
   "source": [
    "# df = mk_df(in_file=file)\n",
    "# df"
   ]
  },
  {
   "cell_type": "code",
   "execution_count": 14,
   "metadata": {},
   "outputs": [],
   "source": [
    "# rm_sub_list = [ 1003, 1035, 1696, 1697 ]"
   ]
  },
  {
   "cell_type": "code",
   "execution_count": 15,
   "metadata": {},
   "outputs": [],
   "source": [
    "# df_rm = rm_sub(df=df,rm_list=rm_sub_list)"
   ]
  },
  {
   "cell_type": "code",
   "execution_count": 16,
   "metadata": {},
   "outputs": [],
   "source": [
    "# df_rm"
   ]
  },
  {
   "cell_type": "code",
   "execution_count": 21,
   "metadata": {
    "scrolled": true
   },
   "outputs": [],
   "source": [
    "# df"
   ]
  },
  {
   "cell_type": "code",
   "execution_count": 17,
   "metadata": {},
   "outputs": [],
   "source": [
    "# def mk_adj_sub_list(df_all,df_keep):\n",
    "#     '''\n",
    "#     Creates an adjusted subject inclusion (keep_list) and exclusion (rm_list)\n",
    "#     lists using some input dataframe. The input rm_list is updated to\n",
    "#     reflect subjects removed from the design matrix as a result of\n",
    "#     manual exclusion or missing data.\n",
    "\n",
    "#     Arguments:\n",
    "#         df_all (dataframe): Input dataframe of all subjects.\n",
    "#         df (dataframe): Input dataframe.\n",
    "#     Returns:\n",
    "#         rm_list_adj (list): Adjusted rm_list that lists all excluded subjects.\n",
    "#         keep_list_adj (list): Adjusted keep_list that list all the included subjects.\n",
    "#     '''\n",
    "    \n",
    "#     # Create list of column names\n",
    "#     col_names = list(df.columns)\n",
    "    \n",
    "#     # Create list from input dataframes subject IDs\n",
    "#     all_subs = df_all[col_names[0]].to_list()\n",
    "#     keep_subs = df_keep[col_names[0]].to_list()\n",
    "    \n",
    "#     # Create sets from lists\n",
    "#     all_subs_set = set(all_subs)\n",
    "#     subs_keep_set = set(keep_subs)\n",
    "    \n",
    "#     # Create removed subject list set\n",
    "#     rm_list_set = all_subs_set.difference(subs_keep_set)\n",
    "\n",
    "#     # Create updated/adjusted lists\n",
    "#     rm_list_adj = list(rm_list_set)\n",
    "#     keep_list_adj = list(subs_keep_set)\n",
    "    \n",
    "#     # Sort lists\n",
    "#     rm_list_adj.sort()\n",
    "#     keep_list_adj.sort()\n",
    "\n",
    "#     return rm_list_adj, keep_list_adj"
   ]
  },
  {
   "cell_type": "code",
   "execution_count": 18,
   "metadata": {
    "scrolled": true
   },
   "outputs": [],
   "source": [
    "# mk_adj_sub_list(df_all=df,df_keep=df_rm)"
   ]
  },
  {
   "cell_type": "code",
   "execution_count": 19,
   "metadata": {
    "scrolled": true
   },
   "outputs": [],
   "source": [
    "# demean_col(df=df,col_indices=[1])"
   ]
  },
  {
   "cell_type": "code",
   "execution_count": 24,
   "metadata": {},
   "outputs": [
    {
     "data": {
      "text/plain": [
       "('test.1.txt', 'test.1.exclude.txt', 'test.1.include.txt')"
      ]
     },
     "execution_count": 24,
     "metadata": {},
     "output_type": "execute_result"
    }
   ],
   "source": [
    "mk_design(in_file=file,prefix='test.1',rm_list=\"1003,1035,1696,1697\",kp_col_list=\"1,2,3,4,5\")"
   ]
  },
  {
   "cell_type": "code",
   "execution_count": 32,
   "metadata": {},
   "outputs": [],
   "source": [
    "t1 = [ 1, 2, 3]"
   ]
  },
  {
   "cell_type": "code",
   "execution_count": 33,
   "metadata": {},
   "outputs": [],
   "source": [
    "t2 = [ 4, 5, 6]"
   ]
  },
  {
   "cell_type": "code",
   "execution_count": 34,
   "metadata": {},
   "outputs": [],
   "source": [
    "t1.extend(t2)"
   ]
  },
  {
   "cell_type": "code",
   "execution_count": 35,
   "metadata": {},
   "outputs": [
    {
     "data": {
      "text/plain": [
       "[1, 2, 3, 4, 5, 6]"
      ]
     },
     "execution_count": 35,
     "metadata": {},
     "output_type": "execute_result"
    }
   ],
   "source": [
    "t1"
   ]
  },
  {
   "cell_type": "code",
   "execution_count": null,
   "metadata": {},
   "outputs": [],
   "source": []
  }
 ],
 "metadata": {
  "kernelspec": {
   "display_name": "Python 3",
   "language": "python",
   "name": "python3"
  },
  "language_info": {
   "codemirror_mode": {
    "name": "ipython",
    "version": 3
   },
   "file_extension": ".py",
   "mimetype": "text/x-python",
   "name": "python",
   "nbconvert_exporter": "python",
   "pygments_lexer": "ipython3",
   "version": "3.6.8"
  }
 },
 "nbformat": 4,
 "nbformat_minor": 2
}
