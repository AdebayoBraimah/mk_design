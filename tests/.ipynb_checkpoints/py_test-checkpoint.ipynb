{
 "cells": [
  {
   "cell_type": "code",
   "execution_count": 22,
   "metadata": {},
   "outputs": [],
   "source": [
    "import pytest\n",
    "import subprocess\n",
    "import logging\n",
    "import os\n",
    "import shutil\n",
    "import sys\n",
    "import glob"
   ]
  },
  {
   "cell_type": "code",
   "execution_count": 12,
   "metadata": {},
   "outputs": [],
   "source": [
    "class Command(object):\n",
    "    '''\n",
    "    Creates a command and an empty command list for UNIX command line programs/applications. Primary use and\n",
    "    use-cases are intended for the subprocess module and its associated classes (i.e. Popen/call/run).\n",
    "    \n",
    "    Attributes (class and instance attributes):\n",
    "        command (instance): Command to be performed on the command line.\n",
    "        cmd_list (instance): Mutable list that can be appended to.\n",
    "    \n",
    "    Modules/Packages required:\n",
    "        - os\n",
    "        - logging\n",
    "        - subprocess\n",
    "    '''\n",
    "\n",
    "    def __init__(self,command):\n",
    "        '''\n",
    "        Init doc-string for Command class. Initializes a command to be used on UNIX command line.\n",
    "        The input argument is a command (string), and a mutable list is returned (, that can later\n",
    "        be appended to).\n",
    "        \n",
    "        Usage:\n",
    "            echo = Command(\"echo\")\n",
    "            echo.cmd_list.append(\"Hi!\")\n",
    "            echo.cmd_list.append(\"I have arrived!\")\n",
    "        \n",
    "        Arguments:\n",
    "            command (string): Command to be used. Note: command used must be in system path\n",
    "        Returns:\n",
    "            cmd_list (list): Mutable list that can be appended to.\n",
    "        '''\n",
    "        self.command = command\n",
    "        self.cmd_list = [f\"{self.command}\"]\n",
    "        \n",
    "    def log(self,log_file=\"log_file.log\",log_cmd=\"\"):\n",
    "        '''\n",
    "        Log function for logging commands and messages to some log file.\n",
    "        \n",
    "        Usage:\n",
    "            # Initialize the `log` function command\n",
    "            log_msg = Command(\"log\")\n",
    "            \n",
    "            # Specify output file and message\n",
    "            log_msg.log(\"sub.log\",\"test message 1\")\n",
    "            \n",
    "            # Record message, however - no need to re-initialize `log` funcion command or log output file\n",
    "            log_msg.log(\"test message 2\")\n",
    "        \n",
    "        NOTE: The input `log_file` only needs to be specified once. Once specified,\n",
    "            this log is written to each time this or the `run` function is invoked.\n",
    "        \n",
    "        Arguments:\n",
    "            log_file(file): Log file to be written to. \n",
    "            log_cmd(str): Message to be written to log file\n",
    "        '''\n",
    "        \n",
    "        # Set-up logging to file\n",
    "        logging.basicConfig(level=logging.INFO,\n",
    "                            format='%(asctime)s %(name)-12s %(levelname)-8s %(message)s',\n",
    "                            datefmt='%d-%m-%y %H:%M:%S',\n",
    "                            filename=log_file,\n",
    "                            filemode='a')\n",
    "        \n",
    "        # Define a Handler which writes INFO messages or higher to the sys.stderr\n",
    "        console = logging.StreamHandler()\n",
    "        console.setLevel(logging.INFO)\n",
    "        \n",
    "        # Add the handler to the root logger\n",
    "        logging.getLogger().addHandler(console)\n",
    "        \n",
    "        # Define logging\n",
    "        logger = logging.getLogger(__name__)\n",
    "        \n",
    "        # Log command/message\n",
    "        logger.info(f\"{log_cmd}\")\n",
    "        \n",
    "    def run(self,log_file=\"log_file.log\",debug=False,dryrun=False,env=None,stdout=\"\",shell=False):\n",
    "        '''\n",
    "        Uses python's built-in subprocess class to execute (run) a command from an input command list.\n",
    "        The standard output and error can optionally be written to file.\n",
    "        \n",
    "        Usage:\n",
    "            echo.run() # This will return tuple (returncode,log,None,None), but will echo \"Hi!\" to screen.\n",
    "            \n",
    "        NOTE: \n",
    "            - The contents of the 'stdout' output file will be empty if 'shell' is set to True.\n",
    "            - Once the log file name 'log_file' has been set, that value is stored and cannot be changed.\n",
    "                - This log file will continue to be appended to for each invocation of this class.\n",
    "        Arguments:\n",
    "            log_file(file): Output log file name.\n",
    "            debug(bool): Sets logging function verbosity to DEBUG level\n",
    "            dryrun(bool): Dry run -- does not run task. Command is recorded to log file.\n",
    "            env(dict): Dictionary of environment variables to add to subshell.\n",
    "            stdout(file): Output file to write standard output to.\n",
    "            shell(bool): Use shell to execute command.\n",
    "        Returns:\n",
    "            p.returncode(int): Return code for command execution should the 'log_file' option be used.\n",
    "            log_file(file): Output log file with appended information should the 'log_file' option be used.\n",
    "            stdout(file): Standard output writtent to file should the 'stdout' option be used.\n",
    "            stderr(file): Standard error writtent to file should the 'stdout' option be used.\n",
    "        '''\n",
    "        \n",
    "        # Define logging\n",
    "        logger = logging.getLogger(__name__)\n",
    "        cmd = ' '.join(self.cmd_list) # Join list for logging purposes\n",
    "        \n",
    "        if debug:\n",
    "            logger.debug(f\"Running: {cmd}\")\n",
    "        else:\n",
    "            logger.info(f\"Running: {cmd}\")\n",
    "        \n",
    "        if dryrun:\n",
    "            logger.info(\"Performing command as dryrun\")\n",
    "            return 0\n",
    "        \n",
    "        # Define environment variables\n",
    "        merged_env = os.environ\n",
    "        if env:\n",
    "            merged_env.update(env)\n",
    "        \n",
    "        # Execute/run command\n",
    "        p = subprocess.Popen(self.cmd_list,shell=shell,env=merged_env,\n",
    "                        stdout=subprocess.PIPE,stderr=subprocess.PIPE)\n",
    "\n",
    "        # Write log files\n",
    "        out,err = p.communicate()\n",
    "        out = out.decode('utf-8')\n",
    "        err = err.decode('utf-8')\n",
    "\n",
    "        # Write std output/error files\n",
    "        if stdout:\n",
    "            stderr = os.path.splitext(stdout)[0] + \".err\"\n",
    "            with open(stdout,\"w\") as f_out:\n",
    "                with open(stderr,\"w\") as f_err:\n",
    "                    f_out.write(out)\n",
    "                    f_err.write(err)\n",
    "                    f_out.close(); f_err.close()\n",
    "        else:\n",
    "            stdout = None\n",
    "            stderr = None\n",
    "\n",
    "        if p.returncode:\n",
    "            logger.error(f\"command: {cmd} \\n Failed with returncode {p.returncode}\")\n",
    "\n",
    "        if len(out) > 0:\n",
    "            if debug:\n",
    "                logger.debug(out)\n",
    "            else:\n",
    "                logger.info(out)\n",
    "\n",
    "        if len(err) > 0:\n",
    "            if debug:\n",
    "                logger.info(err)\n",
    "            else:\n",
    "                logger.warning(err)\n",
    "        return p.returncode,log_file,stdout,stderr"
   ]
  },
  {
   "cell_type": "code",
   "execution_count": 7,
   "metadata": {},
   "outputs": [],
   "source": [
    "# scripts_dir = os.path.dirname(os.path.realpath(__file__))\n",
    "scripts_dir = os.getcwd()"
   ]
  },
  {
   "cell_type": "code",
   "execution_count": 8,
   "metadata": {},
   "outputs": [],
   "source": [
    "test = Command(os.path.join(scripts_dir,\"test.design.sh\"))"
   ]
  },
  {
   "cell_type": "code",
   "execution_count": 10,
   "metadata": {},
   "outputs": [],
   "source": [
    "test.cmd_list.append(\"test.results\")"
   ]
  },
  {
   "cell_type": "code",
   "execution_count": 11,
   "metadata": {},
   "outputs": [
    {
     "data": {
      "text/plain": [
       "(0, 'log_file.log', None, None)"
      ]
     },
     "execution_count": 11,
     "metadata": {},
     "output_type": "execute_result"
    }
   ],
   "source": [
    "test.run(\"log_file.log\")"
   ]
  },
  {
   "cell_type": "code",
   "execution_count": 13,
   "metadata": {},
   "outputs": [],
   "source": [
    "def write_design_files(out_dir):\n",
    "    '''\n",
    "    Wrapper function for `test.design.sh` script\n",
    "    NOTE: scripts_dir is assumed to be a global variable\n",
    "    '''\n",
    "    test = Command(os.path.join(scripts_dir,\"test.design.sh\"))\n",
    "    test.cmd_list.append(out_dir)\n",
    "    [returncode,log_file,stdout,stderr] = test.run(log_file=\"log_file.log\",shell=False)\n",
    "    return returncode,log_file,stdout,stderr"
   ]
  },
  {
   "cell_type": "code",
   "execution_count": 14,
   "metadata": {},
   "outputs": [
    {
     "name": "stderr",
     "output_type": "stream",
     "text": [
      "/mnt/c/Users/smart/Desktop/mk_design/tests/test.design.sh: line 56: test.results/test.log: No such file or directory\n",
      "/mnt/c/Users/smart/Desktop/mk_design/tests/test.design.sh: line 57: test.results/test.log: No such file or directory\n",
      "\n"
     ]
    },
    {
     "data": {
      "text/plain": [
       "(0, 'log_file.log', None, None)"
      ]
     },
     "execution_count": 14,
     "metadata": {},
     "output_type": "execute_result"
    }
   ],
   "source": [
    "out_dir=\"test.results\"\n",
    "write_design_files(out_dir)"
   ]
  },
  {
   "cell_type": "code",
   "execution_count": 15,
   "metadata": {},
   "outputs": [],
   "source": [
    "file1 = \"benchmark/grp_design/grp.design.test.all_info.txt\"\n",
    "file2 = \"test.results/grp_design/grp.design.test.all_info.txt\"\n",
    "file3 = \"test.results/grp_design_demean_age/grp.design.test.all_info.txt\""
   ]
  },
  {
   "cell_type": "code",
   "execution_count": 19,
   "metadata": {
    "scrolled": true
   },
   "outputs": [],
   "source": [
    "with open(file1,'r') as f1:\n",
    "    with open(file2,'r') as f2:\n",
    "        for line1,line2 in zip(f1,f2):\n",
    "            if line1 != line2:\n",
    "                print(line1)\n",
    "        f1.close(); f2.close()"
   ]
  },
  {
   "cell_type": "code",
   "execution_count": 47,
   "metadata": {},
   "outputs": [],
   "source": [
    "def compare_file(file1,file2):\n",
    "    '''\n",
    "    Compares two different files line-by-line\n",
    "    NOTE: The second file (file2) is the file in which differences \n",
    "        should be identified.\n",
    "    '''\n",
    "    lines = []\n",
    "    with open(file1,'r') as f1:\n",
    "        with open(file2,'r') as f2:\n",
    "            for line1,line2 in zip(f1,f2):\n",
    "                if line1 != line2:\n",
    "                    lines = line2\n",
    "            f1.close(); f2.close()\n",
    "    return lines"
   ]
  },
  {
   "cell_type": "code",
   "execution_count": 25,
   "metadata": {
    "scrolled": false
   },
   "outputs": [
    {
     "data": {
      "text/plain": [
       "['benchmark/grp_design/grp.design.test.all_info.txt',\n",
       " 'benchmark/grp_design/grp.design.test.exclude.txt',\n",
       " 'benchmark/grp_design/grp.design.test.include.txt',\n",
       " 'benchmark/grp_design/grp.design.test.txt',\n",
       " 'benchmark/grp_design_demean_age/grp.design.test.all_info.txt',\n",
       " 'benchmark/grp_design_demean_age/grp.design.test.exclude.txt',\n",
       " 'benchmark/grp_design_demean_age/grp.design.test.include.txt',\n",
       " 'benchmark/grp_design_demean_age/grp.design.test.txt',\n",
       " 'benchmark/grp_design_demean_multi-col/grp.design.test.all_info.txt',\n",
       " 'benchmark/grp_design_demean_multi-col/grp.design.test.exclude.txt',\n",
       " 'benchmark/grp_design_demean_multi-col/grp.design.test.include.txt',\n",
       " 'benchmark/grp_design_demean_multi-col/grp.design.test.txt',\n",
       " 'benchmark/grp_design_no_covs/grp.design.test.all_info.txt',\n",
       " 'benchmark/grp_design_no_covs/grp.design.test.exclude.txt',\n",
       " 'benchmark/grp_design_no_covs/grp.design.test.include.txt',\n",
       " 'benchmark/grp_design_no_covs/grp.design.test.txt']"
      ]
     },
     "execution_count": 25,
     "metadata": {},
     "output_type": "execute_result"
    }
   ],
   "source": [
    "glob.glob(\"benchmark/*grp*/*\",recursive=False)"
   ]
  },
  {
   "cell_type": "code",
   "execution_count": 29,
   "metadata": {},
   "outputs": [],
   "source": [
    "glob.glob(os.path.join(out_dir,\"*grp*/*\"),recursive=False).sort()"
   ]
  },
  {
   "cell_type": "code",
   "execution_count": 43,
   "metadata": {},
   "outputs": [],
   "source": [
    "def directory_file_lists(bench_dir,test_dir):\n",
    "    '''\n",
    "    Inputs are top-level parent directories\n",
    "    '''\n",
    "    \n",
    "    bench_list = glob.glob(os.path.join(bench_dir,\"*grp*/*\"),recursive=False)\n",
    "    test_list = glob.glob(os.path.join(out_dir,\"*grp*/*\"),recursive=False)\n",
    "    return [bench_list,test_list]"
   ]
  },
  {
   "cell_type": "code",
   "execution_count": 45,
   "metadata": {},
   "outputs": [],
   "source": [
    "b,t = directory_file_lists(\"benchmark\",out_dir)"
   ]
  },
  {
   "cell_type": "code",
   "execution_count": 48,
   "metadata": {},
   "outputs": [],
   "source": [
    "files = []\n",
    "for f1,f2 in zip(b,t):\n",
    "    lines = compare_file(f1,f2)\n",
    "    if lines > 0:\n",
    "        tmp_list = [f2]\n",
    "        files.append(tmp_list)"
   ]
  },
  {
   "cell_type": "code",
   "execution_count": 61,
   "metadata": {},
   "outputs": [],
   "source": [
    "def design_matrices_test(out_dir,bench_dir=\"benchmark\"):\n",
    "    '''\n",
    "    Tests if design files in each directory are the same\n",
    "    '''\n",
    "    [returncode,log_file,stdout,stderr] = write_design_files(out_dir)\n",
    "    if returncode != 0:\n",
    "        print(\"\")\n",
    "        print(\"Non-zero error code writing test matrices\")\n",
    "        sys.exit(18)\n",
    "    \n",
    "    [bench_files,test_files] = directory_file_lists(\"benchmark\",out_dir)\n",
    "    \n",
    "    files = []\n",
    "    for f1,f2 in zip(bench_files,test_files):\n",
    "        lines = compare_file(f1,f2)\n",
    "        if len(lines) > 0:\n",
    "            tmp_list = [f2]\n",
    "            files.append(tmp_list)\n",
    "    \n",
    "    if len(files) > 0:\n",
    "        return False\n",
    "    else:\n",
    "        return True"
   ]
  },
  {
   "cell_type": "code",
   "execution_count": 60,
   "metadata": {},
   "outputs": [],
   "source": [
    "def test_passed():\n",
    "    assert design_matrices_test(\"benchmark\",out_dir)"
   ]
  },
  {
   "cell_type": "code",
   "execution_count": null,
   "metadata": {},
   "outputs": [],
   "source": []
  }
 ],
 "metadata": {
  "kernelspec": {
   "display_name": "Python 3",
   "language": "python",
   "name": "python3"
  },
  "language_info": {
   "codemirror_mode": {
    "name": "ipython",
    "version": 3
   },
   "file_extension": ".py",
   "mimetype": "text/x-python",
   "name": "python",
   "nbconvert_exporter": "python",
   "pygments_lexer": "ipython3",
   "version": "3.7.3"
  }
 },
 "nbformat": 4,
 "nbformat_minor": 2
}
